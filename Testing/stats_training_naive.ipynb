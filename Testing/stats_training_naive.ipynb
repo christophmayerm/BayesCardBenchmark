{
 "cells": [
  {
   "cell_type": "code",
   "execution_count": 1,
   "metadata": {},
   "outputs": [],
   "source": [
    "import sys\n",
    "import pickle\n",
    "import numpy as np\n",
    "import pandas as pd\n",
    "import os\n",
    "import copy\n",
    "import matplotlib.pyplot as plt\n",
    "import warnings\n",
    "warnings.filterwarnings('ignore')"
   ]
  },
  {
   "cell_type": "code",
   "execution_count": 2,
   "metadata": {},
   "outputs": [],
   "source": [
    "sys.path.append('/home/ziniu.wzn/FSPN/fspn')\n",
    "from Data_prepare.schemas import gen_stats_light_schema\n",
    "from Data_prepare.query_prepare_BayesCard import prepare_join_queries\n",
    "schema = gen_stats_light_schema(\"/home/ziniu.wzn/stats\")\n",
    "hdf_path = \"/home/ziniu.wzn/stats/gen_single_light\"\n",
    "meta_data_path = hdf_path + '/meta_data.pkl'\n",
    "sys.path.append('/home/ziniu.wzn/BayesCard')\n",
    "from Models.Bayescard_BN import Bayescard_BN, build_meta_info\n",
    "from Models.BN_ensemble_model import BN_ensemble\n",
    "model_path = \"/home/ziniu.wzn/stats/BayesCard_ensemble/naive_ensemble.pkl\"\n",
    "with open(model_path, \"rb\") as f:\n",
    "    naive_ensemble = pickle.load(f)"
   ]
  },
  {
   "cell_type": "code",
   "execution_count": null,
   "metadata": {},
   "outputs": [],
   "source": [
    "sys.path.append('/home/ziniu.wzn/FSPN/fspn')\n",
    "from Structure.StatisticalTypes import MetaType\n",
    "from Data_prepare.join_data_preparation import JoinDataPreparator\n",
    "from Data_prepare.schemas import gen_stats_light_schema\n",
    "schema = gen_stats_light_schema(\"/home/ziniu.wzn/stats\")\n",
    "hdf_path = \"/home/ziniu.wzn/stats/gen_single_light\"\n",
    "meta_data_path = hdf_path + '/meta_data.pkl'\n",
    "prep = JoinDataPreparator(meta_data_path, schema, max_table_data=20000000)\n",
    "\n",
    "\n",
    "sys.path.append('/home/ziniu.wzn/BayesCard')\n",
    "from Models.Bayescard_BN import Bayescard_BN, build_meta_info\n",
    "from Models.BN_ensemble_model import BN_ensemble\n",
    "data_folder = \"/home/ziniu.wzn/stats/gen_single_light/\"\n",
    "naive_ensemble = BN_ensemble(schema)\n",
    "naive_ensemble.join_prepare = prep\n",
    "for table_name in [\"posts\", \"users\", \"postLinks\", \"postHistory\", \"votes\", \"comments\", \"badges\", \"tags\"]:\n",
    "    df = pd.read_hdf(data_folder+table_name+\".hdf\")\n",
    "    new_cols = []\n",
    "    for col in df.columns:\n",
    "        if \"PostId\" in col or \"UserId\" in col or \"mul\" in col:\n",
    "            print(col)\n",
    "            df = df.drop(col, axis=1)\n",
    "        else:\n",
    "            new_cols.append(col.split(\".\")[-1])\n",
    "    df.columns = new_cols\n",
    "    bn = Bayescard_BN(table_name, nrows=len(df))\n",
    "    bn.build_from_data(df, algorithm=\"chow-liu\", max_parents=1, ignore_cols=['Id'], sample_size=200000)\n",
    "    bn.infer_algo = \"exact-jit\"\n",
    "    bn.init_inference_method()\n",
    "    naive_ensemble.bns[table_name] = bn\n",
    "model_path = \"/home/ziniu.wzn/stats/BayesCard_ensemble/naive_ensemble.pkl\"\n",
    "pickle.dump(naive_ensemble, open(model_path, 'wb'), pickle.HIGHEST_PROTOCOL)"
   ]
  },
  {
   "cell_type": "code",
   "execution_count": 5,
   "metadata": {},
   "outputs": [],
   "source": [
    "sys.path.append('/home/ziniu.wzn/deepdb-stats')\n",
    "from evaluation.utils import parse_query\n",
    "query_filename = \"/home/ziniu.wzn/deepdb-stats/benchmarks/stats/stats_CEB_sub_queries.sql\"\n",
    "with open(query_filename, \"r\") as f:\n",
    "    real_query = f.readlines()"
   ]
  },
  {
   "cell_type": "code",
   "execution_count": 6,
   "metadata": {},
   "outputs": [
    {
     "name": "stdout",
     "output_type": "stream",
     "text": [
      "=====================================================================================\n",
      "q-error 50% percentile is 3.5244923746587333\n",
      "q-error 90% percentile is 79.59394307186865\n",
      "q-error 95% percentile is 295.25225328628005\n",
      "q-error 99% percentile is 22138.387329062032\n",
      "q-error 100% percentile is 27819576.665189616\n",
      "average latency is 6.597885204378202 ms\n"
     ]
    }
   ],
   "source": [
    "import time\n",
    "latency = []\n",
    "q_errors = []\n",
    "pred_all = []\n",
    "for i, q in enumerate(real_query):\n",
    "    true = int(q.split(\"||\")[-1])\n",
    "    query = parse_query(q.split(\"||\")[0], schema)\n",
    "    tic = time.time()\n",
    "    try:\n",
    "        pred = naive_ensemble.naive_cardinality(query)\n",
    "        if type(pred) == list or type(pred) == np.ndarray:\n",
    "            pred = pred[0]\n",
    "    except:\n",
    "        print(f\"query {i} is invalid!!!!!!!!!!!!!!!!!!!!!!!!!!!\")\n",
    "        # this query itself is invalid or it is not recognizable by the learnt BN\n",
    "        pred = None\n",
    "    latency.append(time.time() - tic)\n",
    "    if pred is None or pred <= 1:\n",
    "        print(i)\n",
    "        pred = 1\n",
    "    pred_all.append(pred)\n",
    "    error = max(pred / true, true / pred)\n",
    "    #print(f\"predicting query no {i}: {real_query[i]} \\n\")\n",
    "    #print(f\"true cardinality {true[i]}, predicted {pred} with q-error {error}\")\n",
    "    q_errors.append(error)\n",
    "print(\"=====================================================================================\")\n",
    "for i in [50, 90, 95, 99, 100]:\n",
    "    print(f\"q-error {i}% percentile is {np.percentile(q_errors, i)}\")\n",
    "print(f\"average latency is {np.mean(latency)*1000} ms\")"
   ]
  },
  {
   "cell_type": "code",
   "execution_count": 7,
   "metadata": {},
   "outputs": [],
   "source": [
    "np.save(\"/home/ziniu.wzn/stats/est_results/nativeBayes_join\", pred_all)"
   ]
  },
  {
   "cell_type": "code",
   "execution_count": null,
   "metadata": {},
   "outputs": [],
   "source": [
    "print(q.table_set)\n",
    "print(q.table_where_condition_dict)"
   ]
  },
  {
   "cell_type": "code",
   "execution_count": null,
   "metadata": {},
   "outputs": [],
   "source": [
    "naive_ensemble.bns[\"posts\"].encoding"
   ]
  },
  {
   "cell_type": "code",
   "execution_count": null,
   "metadata": {},
   "outputs": [],
   "source": [
    "data_folder = \"/home/ziniu.wzn/stats/gen_single_light/\"\n",
    "df = pd.read_hdf(data_folder+\"posts.hdf\")"
   ]
  },
  {
   "cell_type": "code",
   "execution_count": null,
   "metadata": {},
   "outputs": [],
   "source": [
    "df.columns"
   ]
  },
  {
   "cell_type": "code",
   "execution_count": null,
   "metadata": {},
   "outputs": [],
   "source": [
    "bn.encoding"
   ]
  },
  {
   "cell_type": "code",
   "execution_count": null,
   "metadata": {},
   "outputs": [],
   "source": []
  }
 ],
 "metadata": {
  "kernelspec": {
   "display_name": "Python 3",
   "language": "python",
   "name": "python3"
  },
  "language_info": {
   "codemirror_mode": {
    "name": "ipython",
    "version": 3
   },
   "file_extension": ".py",
   "mimetype": "text/x-python",
   "name": "python",
   "nbconvert_exporter": "python",
   "pygments_lexer": "ipython3",
   "version": "3.6.12"
  }
 },
 "nbformat": 4,
 "nbformat_minor": 4
}
