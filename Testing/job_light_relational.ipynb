{
 "cells": [
  {
   "cell_type": "code",
   "execution_count": 1,
   "metadata": {},
   "outputs": [],
   "source": [
    "import numpy as np\n",
    "import time\n",
    "import copy\n",
    "import sys\n",
    "sys.path.append('/home/ziniu.wzn/BayesCard')\n",
    "import pandas as pd\n",
    "import time\n",
    "import bz2\n",
    "import pickle\n",
    "import logging\n",
    "import ast\n",
    "\n",
    "from Models.pgmpy_BN import Pgmpy_BN\n",
    "from Evaluation.utils import parse_query"
   ]
  },
  {
   "cell_type": "code",
   "execution_count": 2,
   "metadata": {},
   "outputs": [
    {
     "name": "stdout",
     "output_type": "stream",
     "text": [
      "movie_info_idx.movie_id = title.id\n",
      "movie_info.movie_id = title.id\n",
      "cast_info.movie_id = title.id\n",
      "movie_keyword.movie_id = title.id\n",
      "movie_companies.movie_id = title.id\n"
     ]
    }
   ],
   "source": [
    "from Schemas.imdb.schema import gen_job_light_imdb_schema\n",
    "from DataPrepare.join_data_preparation import JoinDataPreparator\n",
    "schema = gen_job_light_imdb_schema('/home/ziniu.wzn/imdb-benchmark')\n",
    "from DataPrepare.join_data_preparation import JoinDataPreparator\n",
    "hdf_path = \"/home/ziniu.wzn/imdb-benchmark/gen_single_light\"\n",
    "meta_data_path = hdf_path + '/meta_data.pkl'\n",
    "prep = JoinDataPreparator(meta_data_path, schema, max_table_data=20000000)\n",
    "for relationship_obj in schema.relationships:\n",
    "    print(relationship_obj.identifier)"
   ]
  },
  {
   "cell_type": "code",
   "execution_count": 3,
   "metadata": {},
   "outputs": [],
   "source": [
    "from Models.pgmpy_BN import Pgmpy_BN, build_meta_info\n",
    "def train_all(algo=\"chow-liu\", max_parents=1):\n",
    "    for i, relationship_obj in enumerate(schema.relationships):\n",
    "        sample_size = 10000000\n",
    "        relation = relationship_obj.identifier\n",
    "        df, meta_types, null_values, full_join_est = prep.generate_n_samples(\n",
    "                        sample_size, relationship_list=[relation], post_sampling_factor=10)\n",
    "        print(full_join_est)\n",
    "        print(len(df), len(df.columns))\n",
    "        print(meta_types)\n",
    "        meta_info = build_meta_info(df.columns, null_values)\n",
    "        bn = Pgmpy_BN(relation, meta_info, full_join_est)\n",
    "        model_path = f\"/home/ziniu.wzn/imdb-benchmark/BN_model/{i}_{algo}.pkl\"\n",
    "        print(model_path)\n",
    "        bn.build_from_data(df, algorithm=algo, max_parents=max_parents, ignore_cols=['id'], sample_size=200000)\n",
    "        pickle.dump(bn, open(model_path, 'wb'), pickle.HIGHEST_PROTOCOL)\n",
    "        \"\"\"\n",
    "        try:\n",
    "            BN.model = Bn.model.to_junction_tree()\n",
    "            model_path = f\"/home/ziniu.wzn/imdb-benchmark/BN_model/{i}_junction.pkl\"\n",
    "            pickle.dump(bn, open(model_path, 'wb'), pickle.HIGHEST_PROTOCOL)\n",
    "        except:\n",
    "            print(\"This BN is not able to transform into junction tree, probably because it's not connected, just use BN\")\n",
    "        \"\"\""
   ]
  },
  {
   "cell_type": "code",
   "execution_count": null,
   "metadata": {},
   "outputs": [],
   "source": [
    "train_all(\"chow-liu\", 3)"
   ]
  },
  {
   "cell_type": "code",
   "execution_count": 5,
   "metadata": {},
   "outputs": [],
   "source": [
    "from Evaluation.parse_query_imdb import prepare_join_queries"
   ]
  },
  {
   "cell_type": "code",
   "execution_count": 11,
   "metadata": {},
   "outputs": [],
   "source": [
    "#ensemble_location = \"/home/yuxing.hyx/dataset/imdb-benchmark/spn_ensembles/ensemble_join_3_budget_5_10000000.pkl\"\n",
    "ensemble_location = \"../Benchmark/IMDB/ensemble_loader.pkl\"\n",
    "#query_filename = \"/home/ziniu.wzn/imdb-benchmark/cardinality/job_all.sql\"\n",
    "query_filename = \"../Benchmark/IMDB/job-light.sql\"\n",
    "pairwise_rdc_path = \"../Benchmark/IMDB/pairwise_rdc.pkl\"\n",
    "parsed_queries, true = prepare_join_queries(ensemble_location, pairwise_rdc_path, query_filename, \n",
    "                                      join_3_rdc_based=False, true_card_exist=True)"
   ]
  },
  {
   "cell_type": "code",
   "execution_count": null,
   "metadata": {},
   "outputs": [],
   "source": [
    "parsed_queries[4]"
   ]
  },
  {
   "cell_type": "code",
   "execution_count": 9,
   "metadata": {},
   "outputs": [],
   "source": [
    "from Models.BN_ensemble_model import BN_ensemble\n",
    "bn_ensemble = BN_ensemble(schema)\n",
    "algo = \"chow-liu\"\n",
    "distinct_mapping = dict()\n",
    "distinct_mapping['movie_keyword.keyword_id']={117: 8, 8200: 10, 398: 5, 7084: 20}\n",
    "distinct_mapping['movie_companies.company_id']={22956: 62}\n",
    "for i in range(5):\n",
    "    with open(f\"/home/ziniu.wzn/imdb-benchmark/BN_model/{i}_{algo}.pkl\", \"rb\") as f:\n",
    "        bn = pickle.load(f)\n",
    "        bn.init_inference_method()\n",
    "        bn.n_distinct_mapping = distinct_mapping\n",
    "    bn_ensemble.bns[i] = bn"
   ]
  },
  {
   "cell_type": "code",
   "execution_count": 12,
   "metadata": {},
   "outputs": [
    {
     "name": "stdout",
     "output_type": "stream",
     "text": [
      "{'movie_keyword.keyword_id': {117: 8, 8200: 10, 398: 5, 7084: 20}, 'movie_companies.company_id': {22956: 62}} movie_keyword.keyword_id 117.0\n",
      "None\n",
      "8\n",
      "{'movie_keyword.keyword_id': {117: 8, 8200: 10, 398: 5, 7084: 20}, 'movie_companies.company_id': {22956: 62}} movie_keyword.keyword_id 8200.0\n",
      "None\n",
      "10\n",
      "{'movie_keyword.keyword_id': {117: 8, 8200: 10, 398: 5, 7084: 20}, 'movie_companies.company_id': {22956: 62}} movie_keyword.keyword_id 8200.0\n",
      "None\n",
      "10\n",
      "{'movie_keyword.keyword_id': {117: 8, 8200: 10, 398: 5, 7084: 20}, 'movie_companies.company_id': {22956: 62}} movie_keyword.keyword_id 8200.0\n",
      "None\n",
      "10\n",
      "{'movie_keyword.keyword_id': {117: 8, 8200: 10, 398: 5, 7084: 20}, 'movie_companies.company_id': {22956: 62}} movie_keyword.keyword_id 398.0\n",
      "None\n",
      "5\n",
      "{'movie_keyword.keyword_id': {117: 8, 8200: 10, 398: 5, 7084: 20}, 'movie_companies.company_id': {22956: 62}} movie_keyword.keyword_id 398.0\n",
      "None\n",
      "5\n",
      "{'movie_keyword.keyword_id': {117: 8, 8200: 10, 398: 5, 7084: 20}, 'movie_companies.company_id': {22956: 62}} movie_keyword.keyword_id 117.0\n",
      "None\n",
      "8\n",
      "{'movie_keyword.keyword_id': {117: 8, 8200: 10, 398: 5, 7084: 20}, 'movie_companies.company_id': {22956: 62}} movie_keyword.keyword_id 398.0\n",
      "None\n",
      "5\n",
      "{'movie_keyword.keyword_id': {117: 8, 8200: 10, 398: 5, 7084: 20}, 'movie_companies.company_id': {22956: 62}} movie_keyword.keyword_id 398.0\n",
      "None\n",
      "5\n",
      "{'movie_keyword.keyword_id': {117: 8, 8200: 10, 398: 5, 7084: 20}, 'movie_companies.company_id': {22956: 62}} movie_keyword.keyword_id 398.0\n",
      "None\n",
      "5\n",
      "{'movie_keyword.keyword_id': {117: 8, 8200: 10, 398: 5, 7084: 20}, 'movie_companies.company_id': {22956: 62}} movie_companies.company_id 22956.0\n",
      "None\n",
      "62\n",
      "{'movie_keyword.keyword_id': {117: 8, 8200: 10, 398: 5, 7084: 20}, 'movie_companies.company_id': {22956: 62}} movie_keyword.keyword_id 398.0\n",
      "None\n",
      "5\n",
      "{'movie_keyword.keyword_id': {117: 8, 8200: 10, 398: 5, 7084: 20}, 'movie_companies.company_id': {22956: 62}} movie_keyword.keyword_id 7084.0\n",
      "None\n",
      "20\n",
      "{'movie_keyword.keyword_id': {117: 8, 8200: 10, 398: 5, 7084: 20}, 'movie_companies.company_id': {22956: 62}} movie_keyword.keyword_id 7084.0\n",
      "None\n",
      "20\n"
     ]
    }
   ],
   "source": [
    "queries = bn_ensemble.parse_query_all(parsed_queries)"
   ]
  },
  {
   "cell_type": "code",
   "execution_count": 13,
   "metadata": {},
   "outputs": [
    {
     "data": {
      "text/plain": [
       "[6575448.0,\n",
       " {'bn_index': 3,\n",
       "  'inverse': False,\n",
       "  'expectation': ['title.mul_movie_companies.movie_id'],\n",
       "  'query': {'movie_keyword.movie_keyword_nn': 0,\n",
       "   'movie_keyword.keyword_id': [2]},\n",
       "  'n_distinct': {'movie_keyword.movie_keyword_nn': array([1]),\n",
       "   'movie_keyword.keyword_id': array([0.57142857])}}]"
      ]
     },
     "execution_count": 13,
     "metadata": {},
     "output_type": "execute_result"
    }
   ],
   "source": [
    "queries[4]"
   ]
  },
  {
   "cell_type": "code",
   "execution_count": 14,
   "metadata": {},
   "outputs": [],
   "source": [
    "with open(\"../Benchmark/IMDB/job-light.sql\", \"rb\") as f:\n",
    "    real_query = f.readlines()"
   ]
  },
  {
   "cell_type": "code",
   "execution_count": 15,
   "metadata": {},
   "outputs": [
    {
     "name": "stdout",
     "output_type": "stream",
     "text": [
      "b'SELECT COUNT(*) FROM movie_companies mc,title t,movie_info_idx mi_idx WHERE t.id=mc.movie_id AND t.id=mi_idx.movie_id AND mi_idx.info_type_id=112 AND mc.company_type_id=2||715\\n'\n",
      "true cardinality 715, predicted 3536.083801292903 with q-error 4.9455717500600045\n",
      "b'SELECT COUNT(*) FROM movie_companies mc,title t,movie_info_idx mi_idx WHERE t.id=mc.movie_id AND t.id=mi_idx.movie_id AND mi_idx.info_type_id=113 AND mc.company_type_id=2 AND t.production_year>2005 AND t.production_year<2010||9\\n'\n",
      "true cardinality 9, predicted 1.9135314657190519 with q-error 4.703345704648787\n",
      "b'SELECT COUNT(*) FROM movie_companies mc,title t,movie_info_idx mi_idx WHERE t.id=mc.movie_id AND t.id=mi_idx.movie_id AND mi_idx.info_type_id=112 AND mc.company_type_id=2 AND t.production_year>2010||47\\n'\n",
      "true cardinality 47, predicted 13.748553492837665 with q-error 3.4185414505231213\n",
      "b'SELECT COUNT(*) FROM movie_companies mc,title t,movie_info_idx mi_idx WHERE t.id=mc.movie_id AND t.id=mi_idx.movie_id AND mi_idx.info_type_id=113 AND mc.company_type_id=2 AND t.production_year>2000||16\\n'\n",
      "true cardinality 16, predicted 5.590748645462829 with q-error 2.8618707465921935\n",
      "b'SELECT COUNT(*) FROM movie_companies mc,title t,movie_keyword mk WHERE t.id=mc.movie_id AND t.id=mk.movie_id AND mk.keyword_id=117||148552\\n'\n",
      "true cardinality 148552, predicted 132565.40571786763 with q-error 1.120594013163252\n",
      "b'SELECT COUNT(*) FROM title t,movie_info mi,movie_keyword mk WHERE t.id=mi.movie_id AND t.id=mk.movie_id AND t.production_year>2005||62682311\\n'\n",
      "true cardinality 62682311, predicted 59344415.51374619 with q-error 1.0562461599353126\n",
      "b'SELECT COUNT(*) FROM title t,movie_info mi,movie_keyword mk WHERE t.id=mi.movie_id AND t.id=mk.movie_id AND t.production_year>2010||11990578\\n'\n",
      "true cardinality 11990578, predicted 14273015.206096312 with q-error 1.1903525589922614\n",
      "b'SELECT COUNT(*) FROM title t,movie_info mi,movie_keyword mk WHERE t.id=mi.movie_id AND t.id=mk.movie_id AND t.production_year>1990||157041640\\n'\n",
      "true cardinality 157041640, predicted 155685948.55719152 with q-error 1.0087078599923258\n",
      "b'SELECT COUNT(*) FROM title t,movie_info_idx mi_idx,movie_keyword mk WHERE t.id=mi_idx.movie_id AND t.id=mk.movie_id AND t.production_year>2005 AND mi_idx.info_type_id=101||850677\\n'\n",
      "true cardinality 850677, predicted 894439.0253027341 with q-error 1.0514437622067296\n",
      "b'SELECT COUNT(*) FROM title t,movie_info_idx mi_idx,movie_keyword mk WHERE t.id=mi_idx.movie_id AND t.id=mk.movie_id AND t.production_year>2010 AND mi_idx.info_type_id=101||179616\\n'\n",
      "true cardinality 179616, predicted 237098.7919277831 with q-error 1.3200315780764693\n",
      "b'SELECT COUNT(*) FROM title t,movie_info_idx mi_idx,movie_keyword mk WHERE t.id=mi_idx.movie_id AND t.id=mk.movie_id AND t.production_year>1990 AND mi_idx.info_type_id=101||2031666\\n'\n",
      "true cardinality 2031666, predicted 1913835.6179291501 with q-error 1.0615676607577966\n",
      "b'SELECT COUNT(*) FROM title t,movie_info mi,movie_companies mc WHERE t.id=mi.movie_id AND t.id=mc.movie_id AND t.production_year>2005 AND mc.company_type_id=2||6333736\\n'\n",
      "true cardinality 6333736, predicted 8824564.452112537 with q-error 1.393263699673074\n",
      "b'SELECT COUNT(*) FROM title t,movie_info mi,movie_companies mc WHERE t.id=mi.movie_id AND t.id=mc.movie_id AND t.production_year>2010 AND mc.company_type_id=2||1931628\\n'\n",
      "true cardinality 1931628, predicted 2439552.494462486 with q-error 1.2629515074654571\n",
      "b'SELECT COUNT(*) FROM title t,movie_info mi,movie_companies mc WHERE t.id=mi.movie_id AND t.id=mc.movie_id AND t.production_year>1990 AND mc.company_type_id=2||12738520\\n'\n",
      "true cardinality 12738520, predicted 19101343.960686587 with q-error 1.4994947576866533\n",
      "b'SELECT COUNT(*) FROM movie_keyword mk,title t,cast_info ci WHERE t.id=mk.movie_id AND t.id=ci.movie_id AND t.production_year>2010 AND mk.keyword_id=8200||1224\\n'\n",
      "true cardinality 1224, predicted 3033.036923143468 with q-error 2.4779713424374736\n",
      "b'SELECT COUNT(*) FROM movie_keyword mk,title t,cast_info ci WHERE t.id=mk.movie_id AND t.id=ci.movie_id AND t.production_year>2014||13221\\n'\n",
      "true cardinality 13221, predicted 11113.345332324368 with q-error 1.1896507851281548\n",
      "b'SELECT COUNT(*) FROM movie_keyword mk,title t,cast_info ci WHERE t.id=mk.movie_id AND t.id=ci.movie_id AND t.production_year>2014 AND mk.keyword_id=8200||33\\n'\n",
      "true cardinality 33, predicted 4.864114298589873 with q-error 6.7843800482992025\n",
      "b'SELECT COUNT(*) FROM movie_keyword mk,title t,cast_info ci WHERE t.id=mk.movie_id AND t.id=ci.movie_id AND t.production_year>2000 AND mk.keyword_id=8200||1224\\n'\n",
      "true cardinality 1224, predicted 23427.351996570498 with q-error 19.139993461250405\n",
      "b'SELECT COUNT(*) FROM movie_keyword mk,title t,cast_info ci WHERE t.id=mk.movie_id AND t.id=ci.movie_id AND t.production_year>2000||114182642\\n'\n",
      "true cardinality 114182642, predicted 112430732.98849767 with q-error 1.0155821185625602\n",
      "b'SELECT COUNT(*) FROM cast_info ci,title t WHERE t.id=ci.movie_id AND t.production_year>1980 AND t.production_year<1995||4533382\\n'\n",
      "true cardinality 4533382, predicted 4548771.112637271 with q-error 1.0033946207571458\n",
      "b'SELECT COUNT(*) FROM cast_info ci,title t WHERE t.id=ci.movie_id AND t.production_year>1980 AND t.production_year<1984||695701\\n'\n",
      "true cardinality 695701, predicted 695420.8732841848 with q-error 1.0004028160881802\n",
      "b'SELECT COUNT(*) FROM cast_info ci,title t WHERE t.id=ci.movie_id AND t.production_year>1980 AND t.production_year<2010||21454165\\n'\n",
      "true cardinality 21454165, predicted 21519565.88652147 with q-error 1.0030484004631022\n",
      "b'SELECT COUNT(*) FROM cast_info ci,title t,movie_companies mc WHERE t.id=ci.movie_id AND t.id=mc.movie_id AND ci.role_id=2||13355828\\n'\n",
      "true cardinality 13355828, predicted 15541338.523148363 with q-error 1.1636372168875164\n",
      "b'SELECT COUNT(*) FROM cast_info ci,title t,movie_companies mc WHERE t.id=ci.movie_id AND t.id=mc.movie_id AND ci.role_id=4||4450853\\n'\n",
      "true cardinality 4450853, predicted 4828037.804697923 with q-error 1.0847443860082377\n",
      "b'SELECT COUNT(*) FROM cast_info ci,title t,movie_companies mc WHERE t.id=ci.movie_id AND t.id=mc.movie_id AND ci.role_id=7||794591\\n'\n",
      "true cardinality 794591, predicted 620765.699677112 with q-error 1.2800175660692952\n",
      "b'SELECT COUNT(*) FROM cast_info ci,title t,movie_companies mc WHERE t.id=ci.movie_id AND t.id=mc.movie_id AND t.production_year>2005 AND t.production_year<2015 AND ci.role_id=2||4893440\\n'\n",
      "true cardinality 4893440, predicted 5645138.975661941 with q-error 1.1536136083536206\n",
      "b'SELECT COUNT(*) FROM cast_info ci,title t,movie_companies mc WHERE t.id=ci.movie_id AND t.id=mc.movie_id AND t.production_year>2007 AND t.production_year<2010 AND ci.role_id=2||1381288\\n'\n",
      "true cardinality 1381288, predicted 1584807.8690063467 with q-error 1.1473406480084867\n",
      "b'SELECT COUNT(*) FROM title t,cast_info ci,movie_companies mc WHERE t.id=mc.movie_id AND t.id=ci.movie_id AND t.production_year>2005 AND ci.role_id=1||8720023\\n'\n",
      "true cardinality 8720023, predicted 9897129.153178982 with q-error 1.1349888817012275\n",
      "b'SELECT COUNT(*) FROM title t,cast_info ci,movie_companies mc WHERE t.id=mc.movie_id AND t.id=ci.movie_id AND t.production_year>2010 AND ci.role_id=1||2873214\\n'\n",
      "true cardinality 2873214, predicted 3212753.630762957 with q-error 1.1181741529739717\n",
      "b'SELECT COUNT(*) FROM title t,cast_info ci,movie_companies mc WHERE t.id=mc.movie_id AND t.id=ci.movie_id AND t.production_year>1990||56965403\\n'\n",
      "true cardinality 56965403, predicted 55883363.762553394 with q-error 1.019362457171407\n",
      "b'SELECT COUNT(*) FROM title t,movie_keyword mk,movie_companies mc WHERE t.id=mk.movie_id AND t.id=mc.movie_id AND mk.keyword_id=398 AND mc.company_type_id=2 AND t.production_year>1950 AND t.production_year<2000||7153\\n'\n",
      "true cardinality 7153, predicted 6613.255155933595 with q-error 1.0816156085527913\n",
      "b'SELECT COUNT(*) FROM title t,movie_keyword mk,movie_companies mc WHERE t.id=mk.movie_id AND t.id=mc.movie_id AND mk.keyword_id=398 AND mc.company_type_id=2||14102\\n'\n",
      "true cardinality 14102, predicted 16807.845722502836 with q-error 1.191876735392344\n",
      "b'SELECT COUNT(*) FROM title t,movie_keyword mk,movie_companies mc WHERE t.id=mk.movie_id AND t.id=mc.movie_id AND t.production_year>1950||31339132\\n'\n",
      "true cardinality 31339132, predicted 30606068.39232729 with q-error 1.023951577127642\n"
     ]
    },
    {
     "name": "stdout",
     "output_type": "stream",
     "text": [
      "b'SELECT COUNT(*) FROM title t,movie_info mi,movie_info_idx mi_idx,movie_companies mc WHERE t.id=mi.movie_id AND t.id=mi_idx.movie_id AND t.id=mc.movie_id AND mi_idx.info_type_id=101 AND mi.info_type_id=3 AND t.production_year>2005 AND t.production_year<2008 AND mc.company_type_id=2||75440\\n'\n",
      "true cardinality 75440, predicted 89693.29525679503 with q-error 1.188935515068863\n",
      "b'SELECT COUNT(*) FROM title t,movie_info mi,movie_info_idx mi_idx,movie_companies mc WHERE t.id=mi.movie_id AND t.id=mi_idx.movie_id AND t.id=mc.movie_id AND mi_idx.info_type_id=113 AND mi.info_type_id=105||72\\n'\n",
      "true cardinality 72, predicted 132.81843024602645 with q-error 1.8447004200837007\n",
      "b'SELECT COUNT(*) FROM title t,movie_info mi,movie_info_idx mi_idx,movie_companies mc WHERE t.id=mi.movie_id AND t.id=mi_idx.movie_id AND t.id=mc.movie_id AND mi_idx.info_type_id=101 AND mi.info_type_id=3 AND t.production_year>2000 AND t.production_year<2010 AND mc.company_type_id=2||305691\\n'\n",
      "true cardinality 305691, predicted 352971.4389841684 with q-error 1.1546674222799114\n",
      "b'SELECT COUNT(*) FROM title t,movie_info mi,movie_companies mc,movie_info_idx mi_idx WHERE t.id=mi.movie_id AND t.id=mc.movie_id AND t.id=mi_idx.movie_id AND t.kind_id=1 AND mc.company_type_id=2 AND mi_idx.info_type_id=101 AND mi.info_type_id=16||1919495\\n'\n",
      "true cardinality 1919495, predicted 1474424.491181683 with q-error 1.3018604964039993\n",
      "b'SELECT COUNT(*) FROM title t,movie_info mi,movie_info_idx mi_idx,movie_keyword mk WHERE t.id=mi.movie_id AND t.id=mk.movie_id AND t.id=mi_idx.movie_id AND t.production_year>2010 AND t.kind_id=1 AND mi.info_type_id=8 AND mi_idx.info_type_id=101||150780\\n'\n",
      "true cardinality 150780, predicted 203882.80627701525 with q-error 1.3521873343746866\n",
      "b'SELECT COUNT(*) FROM title t,movie_info mi,movie_info_idx mi_idx,movie_keyword mk WHERE t.id=mi.movie_id AND t.id=mk.movie_id AND t.id=mi_idx.movie_id AND t.kind_id=1 AND mi.info_type_id=8 AND mi_idx.info_type_id=101||3243247\\n'\n",
      "true cardinality 3243247, predicted 2854063.4983030427 with q-error 1.1363611923590196\n",
      "b'SELECT COUNT(*) FROM title t,movie_info mi,movie_info_idx mi_idx,movie_keyword mk WHERE t.id=mi.movie_id AND t.id=mk.movie_id AND t.id=mi_idx.movie_id AND t.production_year>2005 AND mi.info_type_id=8 AND mi_idx.info_type_id=101||1043763\\n'\n",
      "true cardinality 1043763, predicted 1044875.5602197392 with q-error 1.0010659126829933\n",
      "b'SELECT COUNT(*) FROM title t,movie_info mi,movie_companies mc,movie_keyword mk WHERE t.id=mi.movie_id AND t.id=mk.movie_id AND t.id=mc.movie_id AND mi.info_type_id=16 AND t.production_year>2000||512575801\\n'\n",
      "true cardinality 512575801, predicted 203329299.59845132 with q-error 2.520914605087756\n",
      "b'SELECT COUNT(*) FROM title t,movie_info mi,movie_companies mc,movie_keyword mk WHERE t.id=mi.movie_id AND t.id=mk.movie_id AND t.id=mc.movie_id AND mi.info_type_id=16 AND t.production_year>2005 AND t.production_year<2010||206778521\\n'\n",
      "true cardinality 206778521, predicted 72472863.47207305 with q-error 2.8531854696162346\n",
      "b'SELECT COUNT(*) FROM title t,movie_info mi,movie_companies mc,movie_keyword mk WHERE t.id=mi.movie_id AND t.id=mk.movie_id AND t.id=mc.movie_id AND mi.info_type_id=16 AND t.production_year>1990||625302823\\n'\n",
      "true cardinality 625302823, predicted 297948949.21446115 with q-error 2.098691150442394\n",
      "b'SELECT COUNT(*) FROM cast_info ci,title t,movie_keyword mk,movie_companies mc WHERE t.id=ci.movie_id AND t.id=mk.movie_id AND t.id=mc.movie_id AND mk.keyword_id=117||7796926\\n'\n",
      "true cardinality 7796926, predicted 8251602.962759377 with q-error 1.0583149003542394\n",
      "b'SELECT COUNT(*) FROM title t,movie_info mi,movie_info_idx mi_idx,cast_info ci WHERE t.id=mi.movie_id AND t.id=mi_idx.movie_id AND t.id=ci.movie_id AND mi.info_type_id=105 AND mi_idx.info_type_id=100||1831108\\n'\n",
      "true cardinality 1831108, predicted 5968831.799592098 with q-error 3.259683098753377\n",
      "b'SELECT COUNT(*) FROM title t,movie_info mi,movie_info_idx mi_idx,cast_info ci WHERE t.id=mi.movie_id AND t.id=mi_idx.movie_id AND t.id=ci.movie_id AND mi.info_type_id=3 AND mi_idx.info_type_id=101 AND t.production_year>2008 AND t.production_year<2014||2936093\\n'\n",
      "true cardinality 2936093, predicted 3438974.038846366 with q-error 1.1712755824990442\n",
      "b'SELECT COUNT(*) FROM title t,movie_info mi,movie_info_idx mi_idx,cast_info ci WHERE t.id=mi.movie_id AND t.id=mi_idx.movie_id AND t.id=ci.movie_id AND mi.info_type_id=3 AND mi_idx.info_type_id=100||16461908\\n'\n",
      "true cardinality 16461908, predicted 75196536.13615617 with q-error 4.567911334224209\n",
      "b'SELECT COUNT(*) FROM title t,movie_info mi,movie_companies mc,cast_info ci WHERE t.id=mi.movie_id AND t.id=mc.movie_id AND t.id=ci.movie_id AND ci.role_id=2 AND mi.info_type_id=16 AND t.production_year>2005 AND t.production_year<2009||24675801\\n'\n",
      "true cardinality 24675801, predicted 10823799.609540282 with q-error 2.27977252814717\n",
      "b'SELECT COUNT(*) FROM title t,movie_info mi,movie_companies mc,cast_info ci WHERE t.id=mi.movie_id AND t.id=mc.movie_id AND t.id=ci.movie_id AND ci.role_id=2 AND mi.info_type_id=16||132317651\\n'\n",
      "true cardinality 132317651, predicted 156389873.31007704 with q-error 1.181927521597833\n",
      "b'SELECT COUNT(*) FROM title t,movie_info mi,movie_companies mc,cast_info ci WHERE t.id=mi.movie_id AND t.id=mc.movie_id AND t.id=ci.movie_id AND ci.role_id=2 AND mi.info_type_id=16 AND t.production_year>2000||90649862\\n'\n",
      "true cardinality 90649862, predicted 39997897.03760015 with q-error 2.2663657020463925\n",
      "b'SELECT COUNT(*) FROM title t,cast_info ci,movie_keyword mk WHERE t.id=mk.movie_id AND t.id=ci.movie_id AND t.production_year>1950 AND t.kind_id=1||151179813\\n'\n",
      "true cardinality 151179813, predicted 153731824.7198256 with q-error 1.0168806381565347\n",
      "b'SELECT COUNT(*) FROM title t,cast_info ci,movie_keyword mk WHERE t.id=mk.movie_id AND t.id=ci.movie_id AND t.production_year>2000 AND t.kind_id=1||84217062\\n'\n",
      "true cardinality 84217062, predicted 85432068.27927552 with q-error 1.0144270798626949\n",
      "b'SELECT COUNT(*) FROM title t,movie_keyword mk,movie_companies mc,movie_info mi WHERE t.id=mk.movie_id AND t.id=mc.movie_id AND t.id=mi.movie_id AND mk.keyword_id=398 AND mc.company_type_id=2 AND t.production_year>1950 AND t.production_year<2000||333474\\n'\n",
      "true cardinality 333474, predicted 1634505.2746416542 with q-error 4.901447413116627\n",
      "b'SELECT COUNT(*) FROM title t,movie_keyword mk,movie_companies mc,movie_info mi WHERE t.id=mk.movie_id AND t.id=mc.movie_id AND t.id=mi.movie_id AND mk.keyword_id=398 AND mc.company_type_id=2 AND t.production_year>2000 AND t.production_year<2010||307213\\n'\n",
      "true cardinality 307213, predicted 1396419.2078294589 with q-error 4.545443089418282\n",
      "b'SELECT COUNT(*) FROM title t,movie_keyword mk,movie_companies mc,movie_info mi WHERE t.id=mk.movie_id AND t.id=mc.movie_id AND t.id=mi.movie_id AND mk.keyword_id=398 AND mc.company_type_id=2 AND t.production_year>1950 AND t.production_year<2010||658557\\n'\n",
      "true cardinality 658557, predicted 1842267.4735456742 with q-error 2.797430554296248\n",
      "b'SELECT COUNT(*) FROM title t,movie_info mi,movie_info_idx mi_idx,movie_keyword mk,movie_companies mc WHERE t.id=mi.movie_id AND t.id=mk.movie_id AND t.id=mi_idx.movie_id AND t.id=mc.movie_id AND t.production_year>2008 AND mi.info_type_id=8 AND mi_idx.info_type_id=101||8275169\\n'\n",
      "true cardinality 8275169, predicted 1744560.744170471 with q-error 4.7434112154889725\n",
      "b'SELECT COUNT(*) FROM title t,movie_info mi,movie_info_idx mi_idx,movie_keyword mk,movie_companies mc WHERE t.id=mi.movie_id AND t.id=mk.movie_id AND t.id=mi_idx.movie_id AND t.id=mc.movie_id AND t.production_year>2009 AND mi.info_type_id=8 AND mi_idx.info_type_id=101||5060606\\n'\n",
      "true cardinality 5060606, predicted 1218211.8055520088 with q-error 4.154126545922682\n",
      "b'SELECT COUNT(*) FROM title t,movie_info mi,movie_companies mc,cast_info ci,movie_keyword mk WHERE t.id=mi.movie_id AND t.id=mc.movie_id AND t.id=ci.movie_id AND t.id=mk.movie_id AND ci.role_id=2 AND mi.info_type_id=16 AND t.production_year>2010||1352809555\\n'\n",
      "true cardinality 1352809555, predicted 384498442.14401436 with q-error 3.5183746062963333\n",
      "b'SELECT COUNT(*) FROM title t,movie_info mi,movie_companies mc,cast_info ci,movie_keyword mk WHERE t.id=mi.movie_id AND t.id=mc.movie_id AND t.id=ci.movie_id AND t.id=mk.movie_id AND ci.role_id=2 AND mi.info_type_id=16 AND t.production_year>2010 AND mc.company_id=22956||191935\\n'\n",
      "true cardinality 191935, predicted 228322.18972740462 with q-error 1.1895807941615892\n"
     ]
    },
    {
     "name": "stdout",
     "output_type": "stream",
     "text": [
      "b'SELECT COUNT(*) FROM title t,movie_info mi,movie_companies mc,cast_info ci,movie_keyword mk WHERE t.id=mi.movie_id AND t.id=mc.movie_id AND t.id=ci.movie_id AND t.id=mk.movie_id AND ci.role_id=2 AND mi.info_type_id=16 AND t.production_year>2000||9537310863\\n'\n",
      "true cardinality 9537310863, predicted 2608330148.5945497 with q-error 3.6564814726920223\n",
      "b'SELECT COUNT(*) FROM title t,movie_info mi,movie_info_idx mi_idx,cast_info ci,movie_keyword mk WHERE t.id=mi.movie_id AND t.id=mi_idx.movie_id AND t.id=ci.movie_id AND t.id=mk.movie_id AND mi.info_type_id=3 AND mi_idx.info_type_id=100||492943940\\n'\n",
      "true cardinality 492943940, predicted 1007723674.8682328 with q-error 2.0442967102267913\n",
      "b'SELECT COUNT(*) FROM title t,movie_info mi,movie_info_idx mi_idx,cast_info ci,movie_keyword mk WHERE t.id=mi.movie_id AND t.id=mi_idx.movie_id AND t.id=ci.movie_id AND t.id=mk.movie_id AND mi.info_type_id=3 AND mi_idx.info_type_id=100 AND t.production_year>2010||32355583\\n'\n",
      "true cardinality 32355583, predicted 21757888.40659783 with q-error 1.4870736716430875\n",
      "b'SELECT COUNT(*) FROM title t,cast_info ci,movie_keyword mk,movie_info_idx mi_idx WHERE t.id=mk.movie_id AND t.id=ci.movie_id AND t.id=mi_idx.movie_id AND t.production_year>2000 AND t.kind_id=1 AND mi_idx.info_type_id=101||81495003\\n'\n",
      "true cardinality 81495003, predicted 62693931.87227087 with q-error 1.2998866168743952\n",
      "b'SELECT COUNT(*) FROM title t,cast_info ci,movie_keyword mk,movie_info_idx mi_idx WHERE t.id=mk.movie_id AND t.id=ci.movie_id AND t.id=mi_idx.movie_id AND t.production_year>2005 AND t.kind_id=1 AND mi_idx.info_type_id=101||51282842\\n'\n",
      "true cardinality 51282842, predicted 37007120.0344321 with q-error 1.3857560910518167\n",
      "b'SELECT COUNT(*) FROM title t,movie_keyword mk,movie_companies mc,movie_info mi WHERE t.id=mk.movie_id AND t.id=mc.movie_id AND t.id=mi.movie_id AND mk.keyword_id=398 AND mc.company_type_id=2 AND t.production_year=1998||19006\\n'\n",
      "true cardinality 19006, predicted 57372.10443954495 with q-error 3.018631192231135\n",
      "b'SELECT COUNT(*) FROM title t,movie_info mi,movie_info_idx mi_idx,movie_keyword mk,movie_companies mc WHERE t.id=mi.movie_id AND t.id=mk.movie_id AND t.id=mi_idx.movie_id AND t.id=mc.movie_id AND t.production_year>2000 AND mi.info_type_id=8 AND mi_idx.info_type_id=101||26718423\\n'\n",
      "true cardinality 26718423, predicted 6299051.538762752 with q-error 4.241658102903534\n",
      "b'SELECT COUNT(*) FROM title t,movie_info mi,movie_info_idx mi_idx,movie_keyword mk,movie_companies mc WHERE t.id=mi.movie_id AND t.id=mk.movie_id AND t.id=mi_idx.movie_id AND t.id=mc.movie_id AND t.production_year>2005 AND mi.info_type_id=8 AND mi_idx.info_type_id=101||15813608\\n'\n",
      "true cardinality 15813608, predicted 3442989.2853364088 with q-error 4.592987863003145\n",
      "b'SELECT COUNT(*) FROM title t,movie_info mi,movie_companies mc,cast_info ci,movie_keyword mk WHERE t.id=mi.movie_id AND t.id=mc.movie_id AND t.id=ci.movie_id AND t.id=mk.movie_id AND ci.role_id=2 AND mi.info_type_id=16 AND t.production_year>2000 AND t.production_year<2010 AND mk.keyword_id=7084||1067496\\n'\n",
      "true cardinality 1067496, predicted 1010075.0793857096 with q-error 1.056848170780742\n",
      "b'SELECT COUNT(*) FROM title t,movie_info mi,movie_companies mc,cast_info ci,movie_keyword mk WHERE t.id=mi.movie_id AND t.id=mc.movie_id AND t.id=ci.movie_id AND t.id=mk.movie_id AND ci.role_id=2 AND mi.info_type_id=16 AND t.production_year>2000 AND t.production_year<2005 AND mk.keyword_id=7084||268172\\n'\n",
      "true cardinality 268172, predicted 448274.57978543575 with q-error 1.6715935287257273\n",
      "b'SELECT COUNT(*) FROM title t,movie_info mi,movie_info_idx mi_idx,cast_info ci,movie_keyword mk WHERE t.id=mi.movie_id AND t.id=mi_idx.movie_id AND t.id=ci.movie_id AND t.id=mk.movie_id AND mi.info_type_id=3 AND mi_idx.info_type_id=100 AND t.production_year>200||258385218\\n'\n",
      "true cardinality 258385218, predicted 342611480.35889435 with q-error 1.3259716752020014\n"
     ]
    }
   ],
   "source": [
    "import time\n",
    "latency = []\n",
    "q_error = []\n",
    "for i, q in enumerate(queries):\n",
    "    tic = time.time()\n",
    "    try:\n",
    "        pred = bn_ensemble.cardinality(q)\n",
    "    except:\n",
    "        #this query itself is invalid or it is not recognizable by the learnt BN\n",
    "        continue\n",
    "    latency.append(time.time()-tic)\n",
    "    if pred is None or pred <= 1:\n",
    "        pred = 1\n",
    "    error = max(pred/true[i], true[i]/pred)\n",
    "    print(real_query[i])\n",
    "    print(f\"true cardinality {true[i]}, predicted {pred} with q-error {error}\")\n",
    "    q_error.append(error)"
   ]
  },
  {
   "cell_type": "code",
   "execution_count": 16,
   "metadata": {},
   "outputs": [
    {
     "name": "stdout",
     "output_type": "stream",
     "text": [
      "1.3008735566391971\n",
      "4.570418987102102\n",
      "4.830331124184182\n",
      "19.139993461250405\n",
      "0.26437131336757114\n"
     ]
    }
   ],
   "source": [
    "for i in [50, 90, 95, 100]:\n",
    "    print(np.percentile(q_error, i))\n",
    "print(np.mean(latency))"
   ]
  },
  {
   "cell_type": "code",
   "execution_count": null,
   "metadata": {},
   "outputs": [],
   "source": []
  }
 ],
 "metadata": {
  "kernelspec": {
   "display_name": "Python 3",
   "language": "python",
   "name": "python3"
  },
  "language_info": {
   "codemirror_mode": {
    "name": "ipython",
    "version": 3
   },
   "file_extension": ".py",
   "mimetype": "text/x-python",
   "name": "python",
   "nbconvert_exporter": "python",
   "pygments_lexer": "ipython3",
   "version": "3.7.7"
  }
 },
 "nbformat": 4,
 "nbformat_minor": 4
}
