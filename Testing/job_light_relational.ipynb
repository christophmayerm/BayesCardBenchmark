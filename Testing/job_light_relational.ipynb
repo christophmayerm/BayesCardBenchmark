{
 "cells": [
  {
   "cell_type": "code",
   "execution_count": 1,
   "metadata": {},
   "outputs": [
    {
     "ename": "ModuleNotFoundError",
     "evalue": "No module named 'Models'",
     "output_type": "error",
     "traceback": [
      "\u001b[0;31m---------------------------------------------------------------------------\u001b[0m",
      "\u001b[0;31mModuleNotFoundError\u001b[0m                       Traceback (most recent call last)",
      "\u001b[0;32m<ipython-input-1-9119ac55940b>\u001b[0m in \u001b[0;36m<module>\u001b[0;34m\u001b[0m\n\u001b[1;32m     11\u001b[0m \u001b[0;32mimport\u001b[0m \u001b[0mast\u001b[0m\u001b[0;34m\u001b[0m\u001b[0;34m\u001b[0m\u001b[0m\n\u001b[1;32m     12\u001b[0m \u001b[0;34m\u001b[0m\u001b[0m\n\u001b[0;32m---> 13\u001b[0;31m \u001b[0;32mfrom\u001b[0m \u001b[0mModels\u001b[0m\u001b[0;34m.\u001b[0m\u001b[0mpgmpy_BN\u001b[0m \u001b[0;32mimport\u001b[0m \u001b[0mPgmpy_BN\u001b[0m\u001b[0;34m\u001b[0m\u001b[0;34m\u001b[0m\u001b[0m\n\u001b[0m\u001b[1;32m     14\u001b[0m \u001b[0;32mfrom\u001b[0m \u001b[0mEvaluation\u001b[0m\u001b[0;34m.\u001b[0m\u001b[0mutils\u001b[0m \u001b[0;32mimport\u001b[0m \u001b[0mparse_query\u001b[0m\u001b[0;34m\u001b[0m\u001b[0;34m\u001b[0m\u001b[0m\n",
      "\u001b[0;31mModuleNotFoundError\u001b[0m: No module named 'Models'"
     ]
    }
   ],
   "source": [
    "import numpy as np\n",
    "import time\n",
    "import copy\n",
    "import sys\n",
    "sys.path.append('/home/ziniu.wzn/BayesCard')\n",
    "import pandas as pd\n",
    "import time\n",
    "import bz2\n",
    "import pickle\n",
    "import logging\n",
    "import ast\n",
    "\n",
    "from Models.pgmpy_BN import Pgmpy_BN\n",
    "from Evaluation.utils import parse_query"
   ]
  },
  {
   "cell_type": "code",
   "execution_count": 2,
   "metadata": {},
   "outputs": [
    {
     "name": "stdout",
     "output_type": "stream",
     "text": [
      "movie_info_idx.movie_id = title.id\n",
      "movie_info.movie_id = title.id\n",
      "cast_info.movie_id = title.id\n",
      "movie_keyword.movie_id = title.id\n",
      "movie_companies.movie_id = title.id\n"
     ]
    }
   ],
   "source": [
    "from Schemas.imdb.schema import gen_job_light_imdb_schema\n",
    "from DataPrepare.join_data_preparation import JoinDataPreparator\n",
    "schema = gen_job_light_imdb_schema('/home/ziniu.wzn/imdb-benchmark')\n",
    "from DataPrepare.join_data_preparation import JoinDataPreparator\n",
    "hdf_path = \"/home/ziniu.wzn/imdb-benchmark/gen_single_light\"\n",
    "meta_data_path = hdf_path + '/meta_data.pkl'\n",
    "prep = JoinDataPreparator(meta_data_path, schema, max_table_data=20000000)\n",
    "for relationship_obj in schema.relationships:\n",
    "    print(relationship_obj.identifier)"
   ]
  },
  {
   "cell_type": "code",
   "execution_count": 3,
   "metadata": {},
   "outputs": [],
   "source": [
    "from Models.pgmpy_BN import Pgmpy_BN, build_meta_info\n",
    "def train_all(algo=\"chow-liu\", max_parents=1):\n",
    "    for i, relationship_obj in enumerate(schema.relationships):\n",
    "        sample_size = 10000000\n",
    "        relation = relationship_obj.identifier\n",
    "        df, meta_types, null_values, full_join_est = prep.generate_n_samples(\n",
    "                        sample_size, relationship_list=[relation], post_sampling_factor=10)\n",
    "        print(full_join_est)\n",
    "        print(len(df), len(df.columns))\n",
    "        print(meta_types)\n",
    "        meta_info = build_meta_info(df.columns)\n",
    "        bn = Pgmpy_BN(relation, meta_info, full_join_est)\n",
    "        model_path = f\"/home/ziniu.wzn/imdb-benchmark/BN_model/{i}_{algo}.pkl\"\n",
    "        print(model_path)\n",
    "        bn.build_from_data(df, algorithm=algo, max_parents=max_parents, ignore_cols=['id'], sample_size=200000)\n",
    "        pickle.dump(bn, open(model_path, 'wb'), pickle.HIGHEST_PROTOCOL)\n",
    "        try:\n",
    "            BN.model = Bn.model.to_junction_tree()\n",
    "            model_path = f\"/home/ziniu.wzn/imdb-benchmark/BN_model/{i}_junction.pkl\"\n",
    "            pickle.dump(bn, open(model_path, 'wb'), pickle.HIGHEST_PROTOCOL)\n",
    "        except:\n",
    "            print(\"This BN is not able to transform into junction tree, probably because it's not connected, just use BN\")"
   ]
  },
  {
   "cell_type": "code",
   "execution_count": null,
   "metadata": {},
   "outputs": [],
   "source": [
    "train_all(\"exact\", 3)"
   ]
  },
  {
   "cell_type": "code",
   "execution_count": 4,
   "metadata": {},
   "outputs": [],
   "source": [
    "from Evaluation.parse_query_imdb import prepare_join_queries"
   ]
  },
  {
   "cell_type": "code",
   "execution_count": 5,
   "metadata": {},
   "outputs": [],
   "source": [
    "#ensemble_location = \"/home/yuxing.hyx/dataset/imdb-benchmark/spn_ensembles/ensemble_join_3_budget_5_10000000.pkl\"\n",
    "ensemble_location = \"/home/yuxing.hyx/repository/imdb-benchmark/spn_ensembles/ensemble_relationships_imdb-light_10000000.pkl\"\n",
    "#query_filename = \"/home/ziniu.wzn/imdb-benchmark/cardinality/job_all.sql\"\n",
    "query_filename = \"/home/ziniu.wzn/BayesCard/Benchmark/IMDB/job-light.sql\"\n",
    "pairwise_rdc_path = \"/home/yuxing.hyx/repository/imdb-benchmark/spn_ensembles/pairwise_rdc.pkl\"\n",
    "parsed_queries, true = prepare_join_queries(ensemble_location, pairwise_rdc_path, query_filename, \n",
    "                                      join_3_rdc_based=False, true_card_exist=True)"
   ]
  },
  {
   "cell_type": "code",
   "execution_count": 6,
   "metadata": {},
   "outputs": [
    {
     "data": {
      "text/plain": [
       "[4050205.0,\n",
       " {'bn_index': 4,\n",
       "  'inverse': False,\n",
       "  'query': {'title.production_year': (1950.1, 1999.9),\n",
       "   'movie_companies.movie_companies_nn': 1,\n",
       "   'movie_companies.company_type_id': 2.0},\n",
       "  'expectation': ['title.mul_movie_keyword.movie_id']},\n",
       " {'bn_index': 3,\n",
       "  'inverse': False,\n",
       "  'query': {'title.production_year': (1950.1, 1999.9),\n",
       "   'movie_keyword.movie_keyword_nn': 1,\n",
       "   'movie_keyword.keyword_id': 398.0},\n",
       "  'expectation': []},\n",
       " {'bn_index': 3,\n",
       "  'inverse': True,\n",
       "  'query': {'title.production_year': (1950.1, 1999.9),\n",
       "   'movie_keyword.movie_keyword_nn': 1},\n",
       "  'expectation': []}]"
      ]
     },
     "execution_count": 6,
     "metadata": {},
     "output_type": "execute_result"
    }
   ],
   "source": [
    "parsed_queries[30]"
   ]
  },
  {
   "cell_type": "code",
   "execution_count": 10,
   "metadata": {},
   "outputs": [],
   "source": [
    "bn_ensemble = dict()\n",
    "algo = \"chow-liu\"\n",
    "for i in range(5):\n",
    "    with open(f\"/home/ziniu.wzn/imdb-benchmark/BN_model/{i}_{algo}_1.pkl\", \"rb\") as f:\n",
    "        bn = pickle.load(f)\n",
    "    bn_ensemble[i] = bn"
   ]
  },
  {
   "cell_type": "code",
   "execution_count": null,
   "metadata": {},
   "outputs": [],
   "source": []
  }
 ],
 "metadata": {
  "kernelspec": {
   "display_name": "Python 3",
   "language": "python",
   "name": "python3"
  },
  "language_info": {
   "codemirror_mode": {
    "name": "ipython",
    "version": 3
   },
   "file_extension": ".py",
   "mimetype": "text/x-python",
   "name": "python",
   "nbconvert_exporter": "python",
   "pygments_lexer": "ipython3",
   "version": "3.7.7"
  }
 },
 "nbformat": 4,
 "nbformat_minor": 4
}
