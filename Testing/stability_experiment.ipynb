{
 "cells": [
  {
   "cell_type": "code",
   "execution_count": 2,
   "metadata": {},
   "outputs": [
    {
     "data": {
      "image/png": "[encoded data removed]",
      "text/plain": [
       "<Figure size 432x288 with 1 Axes>"
      ]
     },
     "metadata": {
      "needs_background": "light"
     },
     "output_type": "display_data"
    }
   ],
   "source": [
    "import numpy as np\n",
    "import matplotlib.pyplot as plt\n",
    "from scipy.stats import pareto\n",
    "x_m = 4 #scale\n",
    "alpha = [0.1, 1, 2, 3] #list of values of shape parameters\n",
    "samples = np.linspace(start=0, stop=30, num=1000)\n",
    "for a in alpha:\n",
    "    output = np.array([pareto.pdf(x=samples, b=a, loc=0, scale=x_m)])\n",
    "    plt.plot(samples, output.T, label='alpha {0}' .format(a))\n",
    "plt.xlabel('samples', fontsize=15)\n",
    "plt.ylabel('PDF', fontsize=15)\n",
    "plt.title('Probability Density function', fontsize=15)\n",
    "plt.grid(b=True, color='grey', alpha=0.3, linestyle='-.', linewidth=2)\n",
    "plt.rcParams[\"figure.figsize\"] = [5, 5]\n",
    "plt.legend(loc='best')\n",
    "plt.show()"
   ]
  },
  {
   "cell_type": "code",
   "execution_count": 3,
   "metadata": {},
   "outputs": [
    {
     "name": "stdout",
     "output_type": "stream",
     "text": [
      "41\n"
     ]
    },
    {
     "data": {
      "image/png": "[encoded data removed]",
      "text/plain": [
       "<Figure size 360x360 with 1 Axes>"
      ]
     },
     "metadata": {
      "needs_background": "light"
     },
     "output_type": "display_data"
    }
   ],
   "source": [
    "s = pareto.rvs(b=1, scale=2, size=1000)\n",
    "print(len(s[s>50]))\n",
    "s[s>50]=10\n",
    "plt.hist(s, bins=100)\n",
    "plt.show()"
   ]
  },
  {
   "cell_type": "code",
   "execution_count": 23,
   "metadata": {},
   "outputs": [],
   "source": [
    "import numpy as np\n",
    "import pandas as pd\n",
    "import matplotlib.pyplot as plt\n",
    "from scipy.stats import pareto\n",
    "\n",
    "def discretize_series(s, domain_size):\n",
    "    n_invalid = len(s[s>=domain_size])\n",
    "    s = s[s<domain_size]\n",
    "    s = np.floor(s)\n",
    "    new_s = np.random.randint(domain_size, size=n_invalid)\n",
    "    s = np.concatenate((s, new_s))\n",
    "    return np.random.permutation(s)\n",
    "    \n",
    "def data_generation(skew, domain_size, correlation, column_size, nrows=1000000):\n",
    "    data = np.zeros((column_size, nrows))\n",
    "    for i in range(column_size):\n",
    "        if i == 0:\n",
    "            s = np.random.randint(domain_size, size=nrows)\n",
    "            data[i,:] = s\n",
    "            continue\n",
    "        s = pareto.rvs(b=skew, scale=1, size=nrows)\n",
    "        s = discretize_series(s, domain_size)\n",
    "        if i == 1:\n",
    "            selected_cols = [0]\n",
    "        else:\n",
    "            num_selected_cols = max(np.random.randint(int(np.ceil(i*0.1))), 1)\n",
    "            selected_cols = np.random.permutation(i)[0:num_selected_cols]\n",
    "        idx = np.random.permutation(nrows)[0:int(nrows*correlation)]\n",
    "        if len(idx) != 0:\n",
    "            selected_data = data[selected_cols, :]\n",
    "            selected_data = np.ceil(np.mean(selected_data, axis=0))\n",
    "            s[idx] = selected_data[idx]\n",
    "        assert len(np.unique(s)) <= domain_size, \"invalid domain\"\n",
    "        data[i,:] = s\n",
    "        \n",
    "    data = pd.DataFrame(data=data.transpose(), columns=[f\"attr{i}\" for i in range(column_size)])\n",
    "    return data"
   ]
  },
  {
   "cell_type": "code",
   "execution_count": 25,
   "metadata": {},
   "outputs": [],
   "source": [
    "skew, domain_size, correlation, column_size = (1, 10, 0.5, 5)\n",
    "data = data_generation(skew, domain_size, correlation, column_size, nrows=1000000)"
   ]
  },
  {
   "cell_type": "code",
   "execution_count": 26,
   "metadata": {},
   "outputs": [
    {
     "name": "stdout",
     "output_type": "stream",
     "text": [
      "Discretizing table takes 1.1055247783660889 secs\n",
      "Structure learning took 15.1558678150177 secs.\n",
      "done, parameter learning took 1.855208396911621 secs.\n"
     ]
    }
   ],
   "source": [
    "import sys\n",
    "sys.path.append('/home/ziniu.wzn/BayesCard')\n",
    "from Models.Bayescard_BN import Bayescard_BN\n",
    "BN = Bayescard_BN(f\"toy_{skew}_{domain_size}_{correlation}_{column_size}\")\n",
    "BN.build_from_data(data)"
   ]
  },
  {
   "cell_type": "code",
   "execution_count": 28,
   "metadata": {},
   "outputs": [],
   "source": [
    "import torch\n",
    "from torch import nn\n",
    "class MultipleRegression(nn.Module):\n",
    "    def __init__(self, num_features):\n",
    "        super(MultipleRegression, self).__init__()\n",
    "        self.layer_1 = nn.Linear(num_features, 256)\n",
    "        self.layer_2 = nn.Linear(256, 64)\n",
    "        self.layer_3 = nn.Linear(64, 64)\n",
    "        self.layer_4 = nn.Linear(64, 32)\n",
    "        self.layer_5 = nn.Linear(32, 16)\n",
    "        self.layer_out = nn.Linear(16, 1)\n",
    "        \n",
    "        self.relu = nn.ReLU()\n",
    "    def forward(self, inputs):\n",
    "        x = self.relu(self.layer_1(inputs))\n",
    "        x = self.relu(self.layer_2(x))\n",
    "        x = self.relu(self.layer_3(x))\n",
    "        x = self.relu(self.layer_4(x))\n",
    "        x = self.relu(self.layer_5(x))\n",
    "        x = self.layer_out(x)\n",
    "        return (x)\n",
    "    "
   ]
  },
  {
   "cell_type": "code",
   "execution_count": 29,
   "metadata": {},
   "outputs": [],
   "source": [
    "from torch.utils.data import TensorDataset, DataLoader\n",
    "X = np.random.randint(2, size=(1000, 213))\n",
    "Y = np.sum(X, axis=1).reshape(-1,1) + np.random.randint(100, size=(1000,1))\n",
    "tensor_x = torch.Tensor(X) \n",
    "tensor_y = torch.Tensor(Y)\n",
    "\n",
    "my_dataset = TensorDataset(tensor_x, tensor_y) \n",
    "BATCH_SIZE = 64\n",
    "train_loader = DataLoader(my_dataset, batch_size=BATCH_SIZE, shuffle=True) "
   ]
  },
  {
   "cell_type": "code",
   "execution_count": 30,
   "metadata": {},
   "outputs": [
    {
     "name": "stdout",
     "output_type": "stream",
     "text": [
      "Begin training.\n",
      "Epoch 001: | Train Loss: 156.29195 | Val Loss: 156.20263\n",
      "Epoch 002: | Train Loss: 156.28192 | Val Loss: 156.19516\n",
      "Epoch 003: | Train Loss: 156.21938 | Val Loss: 156.17925\n",
      "Epoch 004: | Train Loss: 156.02718 | Val Loss: 155.63888\n",
      "Epoch 005: | Train Loss: 154.79432 | Val Loss: 154.08869\n",
      "Epoch 006: | Train Loss: 152.32252 | Val Loss: 149.68002\n",
      "Epoch 007: | Train Loss: 145.40283 | Val Loss: 139.02746\n",
      "Epoch 008: | Train Loss: 129.23853 | Val Loss: 115.21995\n",
      "Epoch 009: | Train Loss: 94.87452 | Val Loss: 65.86224\n",
      "Epoch 010: | Train Loss: 39.44769 | Val Loss: 28.42822\n",
      "Epoch 011: | Train Loss: 28.76430 | Val Loss: 26.41133\n",
      "Epoch 012: | Train Loss: 26.87219 | Val Loss: 26.74851\n",
      "Epoch 013: | Train Loss: 26.40722 | Val Loss: 26.61437\n",
      "Epoch 014: | Train Loss: 26.30776 | Val Loss: 26.44444\n",
      "Epoch 015: | Train Loss: 26.42312 | Val Loss: 26.37300\n",
      "Epoch 016: | Train Loss: 26.45944 | Val Loss: 26.46723\n",
      "Epoch 017: | Train Loss: 26.36918 | Val Loss: 26.40512\n",
      "Epoch 018: | Train Loss: 26.49786 | Val Loss: 26.41549\n",
      "Epoch 019: | Train Loss: 26.47632 | Val Loss: 26.38230\n",
      "Epoch 020: | Train Loss: 26.46983 | Val Loss: 26.44323\n",
      "Epoch 021: | Train Loss: 26.63999 | Val Loss: 26.36621\n",
      "Epoch 022: | Train Loss: 26.50781 | Val Loss: 26.43676\n",
      "Epoch 023: | Train Loss: 26.35897 | Val Loss: 26.38900\n",
      "Epoch 024: | Train Loss: 26.49617 | Val Loss: 26.43585\n",
      "Epoch 025: | Train Loss: 26.50928 | Val Loss: 26.41523\n",
      "Epoch 026: | Train Loss: 26.46086 | Val Loss: 26.52126\n",
      "Epoch 027: | Train Loss: 26.30593 | Val Loss: 26.29904\n",
      "Epoch 028: | Train Loss: 26.41108 | Val Loss: 26.40113\n",
      "Epoch 029: | Train Loss: 26.55482 | Val Loss: 26.29547\n",
      "Epoch 030: | Train Loss: 26.48177 | Val Loss: 26.49110\n",
      "Epoch 031: | Train Loss: 26.45997 | Val Loss: 26.43336\n",
      "Epoch 032: | Train Loss: 26.45408 | Val Loss: 26.36462\n",
      "Epoch 033: | Train Loss: 26.34641 | Val Loss: 26.32128\n",
      "Epoch 034: | Train Loss: 26.50188 | Val Loss: 26.41417\n",
      "Epoch 035: | Train Loss: 26.33102 | Val Loss: 26.36549\n",
      "Epoch 036: | Train Loss: 26.29420 | Val Loss: 26.38207\n",
      "Epoch 037: | Train Loss: 26.33963 | Val Loss: 26.39491\n",
      "Epoch 038: | Train Loss: 26.39941 | Val Loss: 26.54508\n",
      "Epoch 039: | Train Loss: 26.40474 | Val Loss: 26.27191\n",
      "Epoch 040: | Train Loss: 26.40557 | Val Loss: 26.35994\n",
      "Epoch 041: | Train Loss: 26.47899 | Val Loss: 26.31320\n",
      "Epoch 042: | Train Loss: 26.37397 | Val Loss: 26.39550\n",
      "Epoch 043: | Train Loss: 26.43482 | Val Loss: 26.36401\n",
      "Epoch 044: | Train Loss: 26.31703 | Val Loss: 26.51369\n",
      "Epoch 045: | Train Loss: 26.34630 | Val Loss: 26.42679\n",
      "Epoch 046: | Train Loss: 26.34034 | Val Loss: 26.33483\n",
      "Epoch 047: | Train Loss: 26.33413 | Val Loss: 26.32199\n",
      "Epoch 048: | Train Loss: 26.48999 | Val Loss: 26.23694\n",
      "Epoch 049: | Train Loss: 26.28694 | Val Loss: 26.40541\n",
      "Epoch 050: | Train Loss: 26.53357 | Val Loss: 26.38246\n",
      "Epoch 051: | Train Loss: 26.39007 | Val Loss: 26.38609\n",
      "Epoch 052: | Train Loss: 26.36484 | Val Loss: 26.28508\n",
      "Epoch 053: | Train Loss: 26.30004 | Val Loss: 26.33896\n",
      "Epoch 054: | Train Loss: 26.36104 | Val Loss: 26.24339\n",
      "Epoch 055: | Train Loss: 26.44496 | Val Loss: 26.28639\n",
      "Epoch 056: | Train Loss: 26.36893 | Val Loss: 26.25203\n",
      "Epoch 057: | Train Loss: 26.35157 | Val Loss: 26.33447\n",
      "Epoch 058: | Train Loss: 26.31567 | Val Loss: 26.34285\n",
      "Epoch 059: | Train Loss: 26.25642 | Val Loss: 26.40754\n",
      "Epoch 060: | Train Loss: 26.43480 | Val Loss: 26.38163\n",
      "Epoch 061: | Train Loss: 26.37921 | Val Loss: 26.36070\n",
      "Epoch 062: | Train Loss: 26.36931 | Val Loss: 26.37783\n",
      "Epoch 063: | Train Loss: 26.21611 | Val Loss: 26.23907\n",
      "Epoch 064: | Train Loss: 26.29608 | Val Loss: 26.26221\n",
      "Epoch 065: | Train Loss: 26.32588 | Val Loss: 26.27641\n",
      "Epoch 066: | Train Loss: 26.37660 | Val Loss: 26.32828\n",
      "Epoch 067: | Train Loss: 26.20582 | Val Loss: 26.37991\n",
      "Epoch 068: | Train Loss: 26.22082 | Val Loss: 26.29685\n",
      "Epoch 069: | Train Loss: 26.35407 | Val Loss: 26.30107\n",
      "Epoch 070: | Train Loss: 26.28854 | Val Loss: 26.19365\n",
      "Epoch 071: | Train Loss: 26.40354 | Val Loss: 26.21943\n",
      "Epoch 072: | Train Loss: 26.29917 | Val Loss: 26.42542\n",
      "Epoch 073: | Train Loss: 26.40050 | Val Loss: 26.42257\n",
      "Epoch 074: | Train Loss: 26.37752 | Val Loss: 26.17043\n",
      "Epoch 075: | Train Loss: 26.40289 | Val Loss: 26.24930\n",
      "Epoch 076: | Train Loss: 26.37640 | Val Loss: 26.36529\n",
      "Epoch 077: | Train Loss: 26.33561 | Val Loss: 26.32824\n",
      "Epoch 078: | Train Loss: 26.32834 | Val Loss: 26.36379\n",
      "Epoch 079: | Train Loss: 26.40694 | Val Loss: 26.34220\n",
      "Epoch 080: | Train Loss: 26.42660 | Val Loss: 26.51052\n",
      "Epoch 081: | Train Loss: 26.32490 | Val Loss: 26.19928\n",
      "Epoch 082: | Train Loss: 26.33536 | Val Loss: 26.24654\n",
      "Epoch 083: | Train Loss: 26.33312 | Val Loss: 26.39336\n",
      "Epoch 084: | Train Loss: 26.23355 | Val Loss: 26.33478\n",
      "Epoch 085: | Train Loss: 26.28031 | Val Loss: 26.28781\n",
      "Epoch 086: | Train Loss: 26.41695 | Val Loss: 26.14855\n",
      "Epoch 087: | Train Loss: 26.29543 | Val Loss: 26.26753\n",
      "Epoch 088: | Train Loss: 26.32197 | Val Loss: 26.28452\n",
      "Epoch 089: | Train Loss: 26.33276 | Val Loss: 26.32525\n",
      "Epoch 090: | Train Loss: 26.37708 | Val Loss: 26.33411\n",
      "Epoch 091: | Train Loss: 26.23561 | Val Loss: 26.14534\n",
      "Epoch 092: | Train Loss: 26.31430 | Val Loss: 26.25453\n",
      "Epoch 093: | Train Loss: 26.28580 | Val Loss: 26.35618\n",
      "Epoch 094: | Train Loss: 26.25134 | Val Loss: 26.21181\n",
      "Epoch 095: | Train Loss: 26.22156 | Val Loss: 26.22535\n",
      "Epoch 096: | Train Loss: 26.46478 | Val Loss: 26.30087\n",
      "Epoch 097: | Train Loss: 26.36727 | Val Loss: 26.27310\n",
      "Epoch 098: | Train Loss: 26.38640 | Val Loss: 26.21807\n",
      "Epoch 099: | Train Loss: 26.36760 | Val Loss: 26.25002\n",
      "Epoch 100: | Train Loss: 26.13114 | Val Loss: 26.22155\n"
     ]
    }
   ],
   "source": [
    "#check for gpu\n",
    "import math\n",
    "from torch import optim\n",
    "device = torch.device(\"cuda:0\" if torch.cuda.is_available() else \"cpu\")\n",
    "NUM_FEATURES = 213\n",
    "#Initialize the model, optimizer, and loss function. Transfer the model to GPU.\n",
    "model = MultipleRegression(NUM_FEATURES)\n",
    "model.to(device)\n",
    "# def my_loss(output, target):\n",
    "#     loss = torch.mean(torch.log10(output) - torch.log10(target))\n",
    "#     return loss\n",
    "criterion = nn.SmoothL1Loss()\n",
    "#Model Params\n",
    "\n",
    "EPOCHS =100\n",
    "BATCH_SIZE = 64\n",
    "LEARNING_RATE = 0.0002\n",
    "optimizer = optim.Adam(model.parameters(), lr=LEARNING_RATE, weight_decay = 1e-6)\n",
    "#dict of loss/epoch for both train and validation sets.\n",
    "loss_stats = {\n",
    "    'train': [],\n",
    "    \"val\": []\n",
    "}\n",
    "from tqdm.notebook import tqdm\n",
    "#Start training \n",
    "print(\"Begin training.\")\n",
    "for e in range(1, EPOCHS+1):\n",
    "    # TRAINING\n",
    "    train_epoch_loss = 0\n",
    "    model.train()\n",
    "    for X_train_batch, y_train_batch in train_loader:\n",
    "        #print(X_train_batch.shape, y_train_batch.shape)\n",
    "        X_train_batch, y_train_batch = X_train_batch.to(device), y_train_batch.to(device)\n",
    "        optimizer.zero_grad()\n",
    "        \n",
    "        y_train_pred = model(X_train_batch)\n",
    "        #train_loss = my_loss(y_train_pred, y_train_batch.unsqueeze(1))\n",
    "        train_loss = criterion(y_train_pred, y_train_batch.unsqueeze(1))\n",
    "        train_loss.backward()\n",
    "        optimizer.step()\n",
    "        \n",
    "        train_epoch_loss += train_loss.item()\n",
    "        \n",
    "        \n",
    "    # VALIDATION    \n",
    "    with torch.no_grad():\n",
    "        \n",
    "        val_epoch_loss = 0\n",
    "        \n",
    "        model.eval()\n",
    "        for X_val_batch, y_val_batch in train_loader:\n",
    "            X_val_batch, y_val_batch = X_val_batch.to(device), y_val_batch.to(device)\n",
    "            \n",
    "            y_val_pred = model(X_val_batch)\n",
    "                        \n",
    "            val_loss = criterion(y_val_pred, y_val_batch.unsqueeze(1))\n",
    "            \n",
    "            val_epoch_loss += val_loss.item()\n",
    "            \n",
    "    loss_stats['train'].append(train_epoch_loss/len(train_loader))\n",
    "    loss_stats['val'].append(val_epoch_loss/len(train_loader))                              \n",
    "    print(f'Epoch {e+0:03}: | Train Loss: {train_epoch_loss/len(train_loader):.5f} | Val Loss: {val_epoch_loss/len(train_loader):.5f}')\n"
   ]
  },
  {
   "cell_type": "code",
   "execution_count": null,
   "metadata": {},
   "outputs": [],
   "source": []
  }
 ],
 "metadata": {
  "kernelspec": {
   "display_name": "Python 3",
   "language": "python",
   "name": "python3"
  },
  "language_info": {
   "codemirror_mode": {
    "name": "ipython",
    "version": 3
   },
   "file_extension": ".py",
   "mimetype": "text/x-python",
   "name": "python",
   "nbconvert_exporter": "python",
   "pygments_lexer": "ipython3",
   "version": "3.7.7"
  }
 },
 "nbformat": 4,
 "nbformat_minor": 4
}
