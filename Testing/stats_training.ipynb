{
 "cells": [
  {
   "cell_type": "code",
   "execution_count": 1,
   "metadata": {},
   "outputs": [],
   "source": [
    "import sys\n",
    "import pickle\n",
    "import numpy as np\n",
    "import pandas as pd\n",
    "import os\n",
    "import copy\n",
    "import matplotlib.pyplot as plt\n",
    "import warnings\n",
    "warnings.filterwarnings('ignore')"
   ]
  },
  {
   "cell_type": "code",
   "execution_count": 2,
   "metadata": {},
   "outputs": [
    {
     "name": "stdout",
     "output_type": "stream",
     "text": [
      "comments.PostId = posts.Id\n",
      "comments.UserId = users.Id\n",
      "badges.UserId = users.Id\n",
      "tags.ExcerptPostId = posts.Id\n",
      "postLinks.PostId = posts.Id\n",
      "postLinks.RelatedPostId = posts.Id\n",
      "postHistory.PostId = posts.Id\n",
      "postHistory.UserId = users.Id\n",
      "votes.PostId = posts.Id\n",
      "votes.UserId = users.Id\n",
      "posts.OwnerUserId = users.Id\n"
     ]
    }
   ],
   "source": [
    "sys.path.append('/home/ziniu.wzn/FSPN/fspn')\n",
    "from Structure.StatisticalTypes import MetaType\n",
    "from Data_prepare.join_data_preparation import JoinDataPreparator\n",
    "from Data_prepare.schemas import gen_stats_light_schema\n",
    "schema = gen_stats_light_schema(\"/home/ziniu.wzn/stats\")\n",
    "hdf_path = \"/home/ziniu.wzn/stats/gen_single_light\"\n",
    "meta_data_path = hdf_path + '/meta_data.pkl'\n",
    "prep = JoinDataPreparator(meta_data_path, schema, max_table_data=20000000)\n",
    "for relationship_obj in schema.relationships:\n",
    "    print(relationship_obj.identifier)"
   ]
  },
  {
   "cell_type": "code",
   "execution_count": 3,
   "metadata": {},
   "outputs": [],
   "source": [
    "relation_ensemble = [\n",
    "    ['postHistory.PostId = posts.Id', 'comments.PostId = posts.Id'],\n",
    "    ['votes.PostId = posts.Id', 'comments.PostId = posts.Id'],\n",
    "    ['postLinks.RelatedPostId = posts.Id', 'comments.PostId = posts.Id'],\n",
    "    ['posts.OwnerUserId = users.Id', 'badges.UserId = users.Id'],\n",
    "    ['comments.UserId = users.Id',  'badges.UserId = users.Id'],\n",
    "    ['comments.UserId = users.Id',  'votes.UserId = users.Id'],\n",
    "    ['postHistory.UserId = users.Id'],\n",
    "    ['tags.ExcerptPostId = posts.Id'],\n",
    "    ['postLinks.PostId = posts.Id'],\n",
    "    ['comments.PostId = posts.Id', 'postLinks.PostId = posts.Id']\n",
    "]\n",
    "full_join_sizes = [813992, 994819, 233362, 3752652, 15937883, 11407421, 321405, 92412, 95474, 225711]"
   ]
  },
  {
   "cell_type": "code",
   "execution_count": null,
   "metadata": {},
   "outputs": [],
   "source": [
    "sample_size = 10000000\n",
    "relation_set = relation_ensemble[9]\n",
    "df_samples, meta_types, null_values, full_join_est = prep.generate_n_samples(\n",
    "                sample_size, relationship_list=relation_set, post_sampling_factor=10)\n",
    "print(full_join_est)\n",
    "print(len(df_samples), len(df_samples.columns))\n",
    "print(meta_types)"
   ]
  },
  {
   "cell_type": "code",
   "execution_count": null,
   "metadata": {},
   "outputs": [],
   "source": [
    "df = df_samples\n",
    "columns = list(df.columns)\n",
    "assert len(columns) == len(meta_types) == len(null_values)\n",
    "table_set = set()\n",
    "for relationship in relation_set:\n",
    "    relationship_obj = schema.relationship_dictionary.get(relationship)\n",
    "    table_set.add(relationship_obj.start)\n",
    "    table_set.add(relationship_obj.end)\n",
    "extra_drop_columns = []\n",
    "for table_name in table_set:\n",
    "    extra_drop = schema.table_dictionary[table_name].drop_id_attributes\n",
    "    extra_drop = [table_name+\".\"+col_name for col_name in extra_drop]\n",
    "    extra_drop_columns.extend(extra_drop)\n",
    "for col in extra_drop_columns:\n",
    "    if col in columns:\n",
    "        print(col)\n",
    "        idx = columns.index(col)\n",
    "        columns.pop(idx)\n",
    "        meta_types.pop(idx)\n",
    "        null_values.pop(idx)\n",
    "        df = df.drop(col, axis=1)\n",
    "print(len(df), len(df.columns), len(meta_types), len(null_values))"
   ]
  },
  {
   "cell_type": "code",
   "execution_count": null,
   "metadata": {},
   "outputs": [],
   "source": [
    "sys.path.append('/home/ziniu.wzn/BayesCard')\n",
    "from Models.Bayescard_BN import Bayescard_BN, build_meta_info\n",
    "meta_info = build_meta_info(df.columns, null_values)\n",
    "bn = Bayescard_BN(relation_set, meta_info, full_join_sizes[9])"
   ]
  },
  {
   "cell_type": "code",
   "execution_count": null,
   "metadata": {},
   "outputs": [],
   "source": [
    "bn.build_from_data(df, algorithm=\"chow-liu\", max_parents=1, ignore_cols=['Id'], sample_size=200000)"
   ]
  },
  {
   "cell_type": "code",
   "execution_count": null,
   "metadata": {},
   "outputs": [],
   "source": [
    "model_path = \"/home/ziniu.wzn/stats/BayesCard_ensemble/9_CLT.pkl\"\n",
    "pickle.dump(bn, open(model_path, 'wb'), pickle.HIGHEST_PROTOCOL)"
   ]
  },
  {
   "cell_type": "code",
   "execution_count": null,
   "metadata": {},
   "outputs": [],
   "source": []
  }
 ],
 "metadata": {
  "kernelspec": {
   "display_name": "Python 3",
   "language": "python",
   "name": "python3"
  },
  "language_info": {
   "codemirror_mode": {
    "name": "ipython",
    "version": 3
   },
   "file_extension": ".py",
   "mimetype": "text/x-python",
   "name": "python",
   "nbconvert_exporter": "python",
   "pygments_lexer": "ipython3",
   "version": "3.7.7"
  }
 },
 "nbformat": 4,
 "nbformat_minor": 4
}
