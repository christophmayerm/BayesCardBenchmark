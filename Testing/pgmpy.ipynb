{
 "cells": [
  {
   "cell_type": "code",
   "execution_count": 1,
   "metadata": {},
   "outputs": [],
   "source": [
    "import pgmpy\n",
    "from pgmpy.models import BayesianModel\n",
    "import numpy as np\n",
    "import time\n",
    "import sys\n",
    "import copy"
   ]
  },
  {
   "cell_type": "code",
   "execution_count": 2,
   "metadata": {},
   "outputs": [],
   "source": [
    "sys.path.append('/Users/ziniuwu/Desktop/research/BayesNet')\n",
    "from Structure.BN_single_model import BN_Single\n",
    "from Testing.toy_dataset import *\n",
    "from Inference.utils import cartesian_product"
   ]
  },
  {
   "cell_type": "code",
   "execution_count": 3,
   "metadata": {},
   "outputs": [],
   "source": [
    "class Pgmpy_BN(BN_Single):\n",
    "    \"\"\"\n",
    "    Build a single Bayesian Network for a single table using pgmpy\n",
    "    \"\"\"\n",
    "\n",
    "    def __init__(self, table_name, method='Pome', debug=True, infer_algo=None):\n",
    "        \"\"\"\n",
    "        infer_algo: inference method, choose between 'exact', 'BP'\n",
    "        \"\"\"\n",
    "        BN_Single.__init__(self, table_name, method, debug)\n",
    "        self.infer_algo = infer_algo\n",
    "\n",
    "\n",
    "    def build_from_data(self, dataset, attr_type=None, sample_size=1000000, n_mcv=30, n_bins=60, ignore_cols=['id'],\n",
    "                        algorithm=\"chow-liu\", drop_na=True, max_parents=-1, root=0, n_jobs=8):\n",
    "        \"\"\" Build the Pomegranate model from data, including structure learning and paramter learning\n",
    "            ::Param:: dataset: pandas.dataframe\n",
    "                      attr_type: type of attributes (binary, discrete or continuous)\n",
    "                      sample_size: subsample the number of rows to use to learn structure\n",
    "                      n_mcv: for categorical data we keep the top n most common values and bin the rest\n",
    "                      n_bins: number of bins for histogram, larger n_bins will provide more accuracy but less efficiency\n",
    "            for other parameters, pomegranate gives a detailed explaination:\n",
    "            https://pomegranate.readthedocs.io/en/latest/BayesianNetwork.html\n",
    "        \"\"\"\n",
    "        self.algorithm = algorithm\n",
    "        if algorithm != \"junction\":\n",
    "            discrete_table = self.learn_model_structure(dataset, attr_type, sample_size,\n",
    "                                                        n_mcv, n_bins, ignore_cols, algorithm,\n",
    "                                                        drop_na, max_parents, root, n_jobs, return_dataset=True)\n",
    "        else:\n",
    "            discrete_table = self.learn_model_structure(dataset, attr_type, sample_size,\n",
    "                                                        n_mcv, n_bins, ignore_cols, 'exact',\n",
    "                                                        drop_na, max_parents, root, n_jobs, return_dataset=True)\n",
    "\n",
    "        spec = []\n",
    "        orphans = []\n",
    "        for i, parents in enumerate(self.structure):\n",
    "            for p in parents:\n",
    "                spec.append((self.node_names[p], self.node_names[i]))\n",
    "            if not parents:\n",
    "                orphans.append(self.node_names[i])\n",
    "        if self.debug:\n",
    "            print(f\"Model spec{spec}\")\n",
    "        self.model = BayesianModel(spec)\n",
    "        for o in orphans:\n",
    "            self.model.add_node(o)\n",
    "        print('calling pgm.BayesianModel.fit...')\n",
    "        t = time.time()\n",
    "        self.model.fit(discrete_table)\n",
    "        if algorithm == \"junction\":\n",
    "            try:\n",
    "                self.model = self.model.to_junction_tree()\n",
    "            except:\n",
    "                self.model = self.model\n",
    "                print(\"This BN is not able to transform into junction tree, just use BN\")\n",
    "        print(f\"done, took {time.time() - t} secs.\")\n",
    "        self.init_inference_method()\n",
    "\n",
    "\n",
    "    def init_inference_method(self):\n",
    "        \"\"\"\n",
    "        Initial the inference method for query\n",
    "        \"\"\"\n",
    "        if self.infer_algo is None:\n",
    "            if self.algorithm == \"junction\":\n",
    "                self.infer_algo = \"BP\"\n",
    "            else:\n",
    "                self.infer_algo = \"exact\"\n",
    "\n",
    "        if self.infer_algo == \"exact\":\n",
    "            from pgmpy.inference import VariableElimination\n",
    "            self.infer_machine = VariableElimination(self.model)\n",
    "        elif self.infer_algo == \"BP\":\n",
    "            from pgmpy.inference import BeliefPropagation\n",
    "            self.infer_machine = BeliefPropagation(self.model)\n",
    "            self.infer_machine.calibrate()\n",
    "        else:\n",
    "            raise NotImplemented\n",
    "            \n",
    "    def one_iter_of_infer(self, query, n_distinct):\n",
    "        \"\"\"Performance a BP in random order.\n",
    "           This adapts the BP implemented in pgympy package itself.\n",
    "        \"\"\"\n",
    "        copy_query = copy.deepcopy(query)\n",
    "        sampling_order = copy.deepcopy(self.node_names)\n",
    "        np.random.shuffle(sampling_order)\n",
    "        \n",
    "        p_estimate = 1\n",
    "        for attr in sampling_order:\n",
    "            if attr in query:\n",
    "                val = query.pop(attr)\n",
    "                probs = self.infer_machine.query([attr], evidence=query).values\n",
    "                if any(np.isnan(probs)):\n",
    "                    p_estimate = 0\n",
    "                    break\n",
    "                p = probs[val]/(np.sum(probs))*n_distinct[attr]\n",
    "                p_estimate *= p\n",
    "                        \n",
    "        return p_estimate\n",
    "        \n",
    "            \n",
    "    def infer_point_query(self, query, num_samples=1, return_prob=False):\n",
    "        \"\"\"Probability inference using Loopy belief propagation. For example estimate P(X=x, Y=y, Z=z)\n",
    "           ::Param:: query: dictionary of the form {X:x, Y:y, Z:z}\n",
    "                     x,y,z can only be a single value\n",
    "                     num_samples: how many times to run inference, only useful for approaximate algo\n",
    "                     an approaximation, we might to run it for multiple times and take the average.\n",
    "                     return_prob: if true, return P(X=x, Y=y, Z=z)\n",
    "                                  else return P(X=x, Y=y, Z=z)*nrows\n",
    "        \"\"\"\n",
    "        assert self.infer_algo is not None, \"must call .init_inference_method() first\"\n",
    "        \n",
    "        nrows = self.nrows\n",
    "        n_distinct = dict()\n",
    "        for attr in query:\n",
    "            encode_value = self.apply_encoding_to_value(query[attr], attr)\n",
    "            if encode_value is None:\n",
    "                return (0, nrows) if return_prob else 0\n",
    "            n_distinct[attr] = self.apply_ndistinct_to_value(encode_value, query[attr], attr)\n",
    "            query[attr] = encode_value\n",
    "            \n",
    "        if self.infer_algo == \"exact\" or num_samples == 1:\n",
    "            #Using topological order to infer probability\n",
    "            sampling_order = []\n",
    "            while len(sampling_order) < len(self.structure):\n",
    "                for i, deps in enumerate(self.structure):\n",
    "                    if i in sampling_order:\n",
    "                        continue  # already ordered\n",
    "                    if all(d in sampling_order for d in deps):\n",
    "                        sampling_order.append(i)\n",
    "            sampling_order = [self.node_names[i] for i in sampling_order]\n",
    "            \n",
    "            p_estimate = 1\n",
    "            for attr in sampling_order:\n",
    "                if attr in query:\n",
    "                    val = query.pop(attr)\n",
    "                    probs = self.infer_machine.query([attr], evidence=query).values\n",
    "                    if any(np.isnan(probs)):\n",
    "                        p_estimate = 0\n",
    "                        break\n",
    "                    p = probs[val]/(np.sum(probs))*n_distinct[attr]\n",
    "                    p_estimate *= p\n",
    "                        \n",
    "        else:\n",
    "            p_estimates = []\n",
    "            for i in range(num_samples):\n",
    "                p_estimates.append(self.one_iter_of_infer(query, n_distinct))\n",
    "            p_estimate = sum(p_estimates)/num_samples\n",
    "        \n",
    "        print(p_estimate)\n",
    "        if return_prob:\n",
    "            return (p_estimate, nrows)\n",
    "        return round(p_estimate * nrows)\n",
    "    \n",
    "    \n",
    "    def infer_query(self, query, num_samples=1, return_prob=False):\n",
    "        \"\"\"Probability inference using Loopy belief propagation. For example estimate P(X=x, Y=y, Z=z)\n",
    "           ::Param:: query: dictionary of the form {X:[x], Y:[y], Z:[z]}\n",
    "                     x,y,z can only be set of single value\n",
    "                     num_samples: how many times to run inference. Since Loopy belief propagation is sometime\n",
    "                     an approaximation, we might to run it for multiple times and take the average.\n",
    "                     return_prob: if true, return P(X=x, Y=y, Z=z)\n",
    "                                  else return P(X=x, Y=y, Z=z)*nrows\n",
    "           LBP for estimating range query can be really slow\n",
    "        \"\"\"\n",
    "        p_estimate = 0\n",
    "        for query_tuple in cartesian_product(query):\n",
    "            point_query = dict()\n",
    "            i = 0\n",
    "            for attr in query:\n",
    "                point_query[attr] = query_tuple[i]\n",
    "                i += 1\n",
    "            print(point_query)\n",
    "            p_estimate += self.infer_point_query(point_query, return_prob=True)[0]\n",
    "        \n",
    "        return round(p_estimate*self.nrows)\n",
    "    \n",
    "    \n",
    "\n",
    "    "
   ]
  },
  {
   "cell_type": "code",
   "execution_count": 4,
   "metadata": {},
   "outputs": [
    {
     "data": {
      "text/html": [
       "<div>\n",
       "<style scoped>\n",
       "    .dataframe tbody tr th:only-of-type {\n",
       "        vertical-align: middle;\n",
       "    }\n",
       "\n",
       "    .dataframe tbody tr th {\n",
       "        vertical-align: top;\n",
       "    }\n",
       "\n",
       "    .dataframe thead th {\n",
       "        text-align: right;\n",
       "    }\n",
       "</style>\n",
       "<table border=\"1\" class=\"dataframe\">\n",
       "  <thead>\n",
       "    <tr style=\"text-align: right;\">\n",
       "      <th></th>\n",
       "      <th>title.id</th>\n",
       "      <th>title.kind_id</th>\n",
       "      <th>title.production_year</th>\n",
       "      <th>title.mul_movie_info_idx.movie_id</th>\n",
       "      <th>title.mul_movie_info_idx.movie_id_nn</th>\n",
       "      <th>title.mul_movie_info.movie_id</th>\n",
       "      <th>title.mul_movie_info.movie_id_nn</th>\n",
       "      <th>title.mul_cast_info.movie_id</th>\n",
       "      <th>title.mul_cast_info.movie_id_nn</th>\n",
       "      <th>title.mul_movie_keyword.movie_id</th>\n",
       "      <th>title.mul_movie_keyword.movie_id_nn</th>\n",
       "      <th>title.mul_movie_companies.movie_id</th>\n",
       "      <th>title.mul_movie_companies.movie_id_nn</th>\n",
       "    </tr>\n",
       "  </thead>\n",
       "  <tbody>\n",
       "    <tr>\n",
       "      <th>80889</th>\n",
       "      <td>80889</td>\n",
       "      <td>7</td>\n",
       "      <td>1980.000000</td>\n",
       "      <td>0.0</td>\n",
       "      <td>1.0</td>\n",
       "      <td>8.0</td>\n",
       "      <td>8.0</td>\n",
       "      <td>0.0</td>\n",
       "      <td>1.0</td>\n",
       "      <td>0.0</td>\n",
       "      <td>1.0</td>\n",
       "      <td>0.0</td>\n",
       "      <td>1.0</td>\n",
       "    </tr>\n",
       "    <tr>\n",
       "      <th>5156</th>\n",
       "      <td>5156</td>\n",
       "      <td>7</td>\n",
       "      <td>2010.000000</td>\n",
       "      <td>0.0</td>\n",
       "      <td>1.0</td>\n",
       "      <td>1.0</td>\n",
       "      <td>1.0</td>\n",
       "      <td>11.0</td>\n",
       "      <td>11.0</td>\n",
       "      <td>0.0</td>\n",
       "      <td>1.0</td>\n",
       "      <td>0.0</td>\n",
       "      <td>1.0</td>\n",
       "    </tr>\n",
       "    <tr>\n",
       "      <th>197772</th>\n",
       "      <td>197772</td>\n",
       "      <td>7</td>\n",
       "      <td>1962.000000</td>\n",
       "      <td>0.0</td>\n",
       "      <td>1.0</td>\n",
       "      <td>1.0</td>\n",
       "      <td>1.0</td>\n",
       "      <td>0.0</td>\n",
       "      <td>1.0</td>\n",
       "      <td>0.0</td>\n",
       "      <td>1.0</td>\n",
       "      <td>0.0</td>\n",
       "      <td>1.0</td>\n",
       "    </tr>\n",
       "    <tr>\n",
       "      <th>111913</th>\n",
       "      <td>111913</td>\n",
       "      <td>7</td>\n",
       "      <td>2012.000000</td>\n",
       "      <td>0.0</td>\n",
       "      <td>1.0</td>\n",
       "      <td>1.0</td>\n",
       "      <td>1.0</td>\n",
       "      <td>12.0</td>\n",
       "      <td>12.0</td>\n",
       "      <td>0.0</td>\n",
       "      <td>1.0</td>\n",
       "      <td>0.0</td>\n",
       "      <td>1.0</td>\n",
       "    </tr>\n",
       "    <tr>\n",
       "      <th>117556</th>\n",
       "      <td>117556</td>\n",
       "      <td>7</td>\n",
       "      <td>1992.788762</td>\n",
       "      <td>0.0</td>\n",
       "      <td>1.0</td>\n",
       "      <td>0.0</td>\n",
       "      <td>1.0</td>\n",
       "      <td>0.0</td>\n",
       "      <td>1.0</td>\n",
       "      <td>0.0</td>\n",
       "      <td>1.0</td>\n",
       "      <td>0.0</td>\n",
       "      <td>1.0</td>\n",
       "    </tr>\n",
       "    <tr>\n",
       "      <th>40704</th>\n",
       "      <td>40704</td>\n",
       "      <td>7</td>\n",
       "      <td>1971.000000</td>\n",
       "      <td>3.0</td>\n",
       "      <td>3.0</td>\n",
       "      <td>11.0</td>\n",
       "      <td>11.0</td>\n",
       "      <td>24.0</td>\n",
       "      <td>24.0</td>\n",
       "      <td>0.0</td>\n",
       "      <td>1.0</td>\n",
       "      <td>5.0</td>\n",
       "      <td>5.0</td>\n",
       "    </tr>\n",
       "    <tr>\n",
       "      <th>164312</th>\n",
       "      <td>164312</td>\n",
       "      <td>7</td>\n",
       "      <td>1997.000000</td>\n",
       "      <td>0.0</td>\n",
       "      <td>1.0</td>\n",
       "      <td>1.0</td>\n",
       "      <td>1.0</td>\n",
       "      <td>1.0</td>\n",
       "      <td>1.0</td>\n",
       "      <td>0.0</td>\n",
       "      <td>1.0</td>\n",
       "      <td>0.0</td>\n",
       "      <td>1.0</td>\n",
       "    </tr>\n",
       "    <tr>\n",
       "      <th>149337</th>\n",
       "      <td>149337</td>\n",
       "      <td>7</td>\n",
       "      <td>2005.000000</td>\n",
       "      <td>0.0</td>\n",
       "      <td>1.0</td>\n",
       "      <td>1.0</td>\n",
       "      <td>1.0</td>\n",
       "      <td>0.0</td>\n",
       "      <td>1.0</td>\n",
       "      <td>0.0</td>\n",
       "      <td>1.0</td>\n",
       "      <td>0.0</td>\n",
       "      <td>1.0</td>\n",
       "    </tr>\n",
       "    <tr>\n",
       "      <th>32020</th>\n",
       "      <td>32020</td>\n",
       "      <td>7</td>\n",
       "      <td>2011.000000</td>\n",
       "      <td>0.0</td>\n",
       "      <td>1.0</td>\n",
       "      <td>1.0</td>\n",
       "      <td>1.0</td>\n",
       "      <td>9.0</td>\n",
       "      <td>9.0</td>\n",
       "      <td>0.0</td>\n",
       "      <td>1.0</td>\n",
       "      <td>0.0</td>\n",
       "      <td>1.0</td>\n",
       "    </tr>\n",
       "    <tr>\n",
       "      <th>36858</th>\n",
       "      <td>36858</td>\n",
       "      <td>7</td>\n",
       "      <td>2012.000000</td>\n",
       "      <td>0.0</td>\n",
       "      <td>1.0</td>\n",
       "      <td>1.0</td>\n",
       "      <td>1.0</td>\n",
       "      <td>1.0</td>\n",
       "      <td>1.0</td>\n",
       "      <td>0.0</td>\n",
       "      <td>1.0</td>\n",
       "      <td>0.0</td>\n",
       "      <td>1.0</td>\n",
       "    </tr>\n",
       "    <tr>\n",
       "      <th>112085</th>\n",
       "      <td>112085</td>\n",
       "      <td>7</td>\n",
       "      <td>2008.000000</td>\n",
       "      <td>0.0</td>\n",
       "      <td>1.0</td>\n",
       "      <td>1.0</td>\n",
       "      <td>1.0</td>\n",
       "      <td>24.0</td>\n",
       "      <td>24.0</td>\n",
       "      <td>0.0</td>\n",
       "      <td>1.0</td>\n",
       "      <td>0.0</td>\n",
       "      <td>1.0</td>\n",
       "    </tr>\n",
       "    <tr>\n",
       "      <th>25704</th>\n",
       "      <td>25704</td>\n",
       "      <td>7</td>\n",
       "      <td>1966.000000</td>\n",
       "      <td>0.0</td>\n",
       "      <td>1.0</td>\n",
       "      <td>10.0</td>\n",
       "      <td>10.0</td>\n",
       "      <td>8.0</td>\n",
       "      <td>8.0</td>\n",
       "      <td>0.0</td>\n",
       "      <td>1.0</td>\n",
       "      <td>3.0</td>\n",
       "      <td>3.0</td>\n",
       "    </tr>\n",
       "    <tr>\n",
       "      <th>49634</th>\n",
       "      <td>49634</td>\n",
       "      <td>7</td>\n",
       "      <td>1998.000000</td>\n",
       "      <td>0.0</td>\n",
       "      <td>1.0</td>\n",
       "      <td>1.0</td>\n",
       "      <td>1.0</td>\n",
       "      <td>4.0</td>\n",
       "      <td>4.0</td>\n",
       "      <td>0.0</td>\n",
       "      <td>1.0</td>\n",
       "      <td>0.0</td>\n",
       "      <td>1.0</td>\n",
       "    </tr>\n",
       "    <tr>\n",
       "      <th>37608</th>\n",
       "      <td>37608</td>\n",
       "      <td>7</td>\n",
       "      <td>1971.000000</td>\n",
       "      <td>0.0</td>\n",
       "      <td>1.0</td>\n",
       "      <td>1.0</td>\n",
       "      <td>1.0</td>\n",
       "      <td>4.0</td>\n",
       "      <td>4.0</td>\n",
       "      <td>0.0</td>\n",
       "      <td>1.0</td>\n",
       "      <td>0.0</td>\n",
       "      <td>1.0</td>\n",
       "    </tr>\n",
       "    <tr>\n",
       "      <th>92382</th>\n",
       "      <td>92382</td>\n",
       "      <td>7</td>\n",
       "      <td>2011.000000</td>\n",
       "      <td>0.0</td>\n",
       "      <td>1.0</td>\n",
       "      <td>1.0</td>\n",
       "      <td>1.0</td>\n",
       "      <td>10.0</td>\n",
       "      <td>10.0</td>\n",
       "      <td>0.0</td>\n",
       "      <td>1.0</td>\n",
       "      <td>0.0</td>\n",
       "      <td>1.0</td>\n",
       "    </tr>\n",
       "    <tr>\n",
       "      <th>7532</th>\n",
       "      <td>7532</td>\n",
       "      <td>7</td>\n",
       "      <td>2009.000000</td>\n",
       "      <td>0.0</td>\n",
       "      <td>1.0</td>\n",
       "      <td>1.0</td>\n",
       "      <td>1.0</td>\n",
       "      <td>1.0</td>\n",
       "      <td>1.0</td>\n",
       "      <td>0.0</td>\n",
       "      <td>1.0</td>\n",
       "      <td>0.0</td>\n",
       "      <td>1.0</td>\n",
       "    </tr>\n",
       "    <tr>\n",
       "      <th>5522</th>\n",
       "      <td>5522</td>\n",
       "      <td>7</td>\n",
       "      <td>1951.000000</td>\n",
       "      <td>0.0</td>\n",
       "      <td>1.0</td>\n",
       "      <td>1.0</td>\n",
       "      <td>1.0</td>\n",
       "      <td>32.0</td>\n",
       "      <td>32.0</td>\n",
       "      <td>0.0</td>\n",
       "      <td>1.0</td>\n",
       "      <td>0.0</td>\n",
       "      <td>1.0</td>\n",
       "    </tr>\n",
       "    <tr>\n",
       "      <th>33423</th>\n",
       "      <td>33423</td>\n",
       "      <td>7</td>\n",
       "      <td>2012.000000</td>\n",
       "      <td>0.0</td>\n",
       "      <td>1.0</td>\n",
       "      <td>1.0</td>\n",
       "      <td>1.0</td>\n",
       "      <td>2.0</td>\n",
       "      <td>2.0</td>\n",
       "      <td>0.0</td>\n",
       "      <td>1.0</td>\n",
       "      <td>0.0</td>\n",
       "      <td>1.0</td>\n",
       "    </tr>\n",
       "    <tr>\n",
       "      <th>165729</th>\n",
       "      <td>165729</td>\n",
       "      <td>2</td>\n",
       "      <td>2004.000000</td>\n",
       "      <td>0.0</td>\n",
       "      <td>1.0</td>\n",
       "      <td>1.0</td>\n",
       "      <td>1.0</td>\n",
       "      <td>2.0</td>\n",
       "      <td>2.0</td>\n",
       "      <td>0.0</td>\n",
       "      <td>1.0</td>\n",
       "      <td>0.0</td>\n",
       "      <td>1.0</td>\n",
       "    </tr>\n",
       "    <tr>\n",
       "      <th>73362</th>\n",
       "      <td>73362</td>\n",
       "      <td>7</td>\n",
       "      <td>2012.000000</td>\n",
       "      <td>0.0</td>\n",
       "      <td>1.0</td>\n",
       "      <td>1.0</td>\n",
       "      <td>1.0</td>\n",
       "      <td>1.0</td>\n",
       "      <td>1.0</td>\n",
       "      <td>0.0</td>\n",
       "      <td>1.0</td>\n",
       "      <td>0.0</td>\n",
       "      <td>1.0</td>\n",
       "    </tr>\n",
       "  </tbody>\n",
       "</table>\n",
       "</div>"
      ],
      "text/plain": [
       "        title.id  title.kind_id  title.production_year  \\\n",
       "80889      80889              7            1980.000000   \n",
       "5156        5156              7            2010.000000   \n",
       "197772    197772              7            1962.000000   \n",
       "111913    111913              7            2012.000000   \n",
       "117556    117556              7            1992.788762   \n",
       "40704      40704              7            1971.000000   \n",
       "164312    164312              7            1997.000000   \n",
       "149337    149337              7            2005.000000   \n",
       "32020      32020              7            2011.000000   \n",
       "36858      36858              7            2012.000000   \n",
       "112085    112085              7            2008.000000   \n",
       "25704      25704              7            1966.000000   \n",
       "49634      49634              7            1998.000000   \n",
       "37608      37608              7            1971.000000   \n",
       "92382      92382              7            2011.000000   \n",
       "7532        7532              7            2009.000000   \n",
       "5522        5522              7            1951.000000   \n",
       "33423      33423              7            2012.000000   \n",
       "165729    165729              2            2004.000000   \n",
       "73362      73362              7            2012.000000   \n",
       "\n",
       "        title.mul_movie_info_idx.movie_id  \\\n",
       "80889                                 0.0   \n",
       "5156                                  0.0   \n",
       "197772                                0.0   \n",
       "111913                                0.0   \n",
       "117556                                0.0   \n",
       "40704                                 3.0   \n",
       "164312                                0.0   \n",
       "149337                                0.0   \n",
       "32020                                 0.0   \n",
       "36858                                 0.0   \n",
       "112085                                0.0   \n",
       "25704                                 0.0   \n",
       "49634                                 0.0   \n",
       "37608                                 0.0   \n",
       "92382                                 0.0   \n",
       "7532                                  0.0   \n",
       "5522                                  0.0   \n",
       "33423                                 0.0   \n",
       "165729                                0.0   \n",
       "73362                                 0.0   \n",
       "\n",
       "        title.mul_movie_info_idx.movie_id_nn  title.mul_movie_info.movie_id  \\\n",
       "80889                                    1.0                            8.0   \n",
       "5156                                     1.0                            1.0   \n",
       "197772                                   1.0                            1.0   \n",
       "111913                                   1.0                            1.0   \n",
       "117556                                   1.0                            0.0   \n",
       "40704                                    3.0                           11.0   \n",
       "164312                                   1.0                            1.0   \n",
       "149337                                   1.0                            1.0   \n",
       "32020                                    1.0                            1.0   \n",
       "36858                                    1.0                            1.0   \n",
       "112085                                   1.0                            1.0   \n",
       "25704                                    1.0                           10.0   \n",
       "49634                                    1.0                            1.0   \n",
       "37608                                    1.0                            1.0   \n",
       "92382                                    1.0                            1.0   \n",
       "7532                                     1.0                            1.0   \n",
       "5522                                     1.0                            1.0   \n",
       "33423                                    1.0                            1.0   \n",
       "165729                                   1.0                            1.0   \n",
       "73362                                    1.0                            1.0   \n",
       "\n",
       "        title.mul_movie_info.movie_id_nn  title.mul_cast_info.movie_id  \\\n",
       "80889                                8.0                           0.0   \n",
       "5156                                 1.0                          11.0   \n",
       "197772                               1.0                           0.0   \n",
       "111913                               1.0                          12.0   \n",
       "117556                               1.0                           0.0   \n",
       "40704                               11.0                          24.0   \n",
       "164312                               1.0                           1.0   \n",
       "149337                               1.0                           0.0   \n",
       "32020                                1.0                           9.0   \n",
       "36858                                1.0                           1.0   \n",
       "112085                               1.0                          24.0   \n",
       "25704                               10.0                           8.0   \n",
       "49634                                1.0                           4.0   \n",
       "37608                                1.0                           4.0   \n",
       "92382                                1.0                          10.0   \n",
       "7532                                 1.0                           1.0   \n",
       "5522                                 1.0                          32.0   \n",
       "33423                                1.0                           2.0   \n",
       "165729                               1.0                           2.0   \n",
       "73362                                1.0                           1.0   \n",
       "\n",
       "        title.mul_cast_info.movie_id_nn  title.mul_movie_keyword.movie_id  \\\n",
       "80889                               1.0                               0.0   \n",
       "5156                               11.0                               0.0   \n",
       "197772                              1.0                               0.0   \n",
       "111913                             12.0                               0.0   \n",
       "117556                              1.0                               0.0   \n",
       "40704                              24.0                               0.0   \n",
       "164312                              1.0                               0.0   \n",
       "149337                              1.0                               0.0   \n",
       "32020                               9.0                               0.0   \n",
       "36858                               1.0                               0.0   \n",
       "112085                             24.0                               0.0   \n",
       "25704                               8.0                               0.0   \n",
       "49634                               4.0                               0.0   \n",
       "37608                               4.0                               0.0   \n",
       "92382                              10.0                               0.0   \n",
       "7532                                1.0                               0.0   \n",
       "5522                               32.0                               0.0   \n",
       "33423                               2.0                               0.0   \n",
       "165729                              2.0                               0.0   \n",
       "73362                               1.0                               0.0   \n",
       "\n",
       "        title.mul_movie_keyword.movie_id_nn  \\\n",
       "80889                                   1.0   \n",
       "5156                                    1.0   \n",
       "197772                                  1.0   \n",
       "111913                                  1.0   \n",
       "117556                                  1.0   \n",
       "40704                                   1.0   \n",
       "164312                                  1.0   \n",
       "149337                                  1.0   \n",
       "32020                                   1.0   \n",
       "36858                                   1.0   \n",
       "112085                                  1.0   \n",
       "25704                                   1.0   \n",
       "49634                                   1.0   \n",
       "37608                                   1.0   \n",
       "92382                                   1.0   \n",
       "7532                                    1.0   \n",
       "5522                                    1.0   \n",
       "33423                                   1.0   \n",
       "165729                                  1.0   \n",
       "73362                                   1.0   \n",
       "\n",
       "        title.mul_movie_companies.movie_id  \\\n",
       "80889                                  0.0   \n",
       "5156                                   0.0   \n",
       "197772                                 0.0   \n",
       "111913                                 0.0   \n",
       "117556                                 0.0   \n",
       "40704                                  5.0   \n",
       "164312                                 0.0   \n",
       "149337                                 0.0   \n",
       "32020                                  0.0   \n",
       "36858                                  0.0   \n",
       "112085                                 0.0   \n",
       "25704                                  3.0   \n",
       "49634                                  0.0   \n",
       "37608                                  0.0   \n",
       "92382                                  0.0   \n",
       "7532                                   0.0   \n",
       "5522                                   0.0   \n",
       "33423                                  0.0   \n",
       "165729                                 0.0   \n",
       "73362                                  0.0   \n",
       "\n",
       "        title.mul_movie_companies.movie_id_nn  \n",
       "80889                                     1.0  \n",
       "5156                                      1.0  \n",
       "197772                                    1.0  \n",
       "111913                                    1.0  \n",
       "117556                                    1.0  \n",
       "40704                                     5.0  \n",
       "164312                                    1.0  \n",
       "149337                                    1.0  \n",
       "32020                                     1.0  \n",
       "36858                                     1.0  \n",
       "112085                                    1.0  \n",
       "25704                                     3.0  \n",
       "49634                                     1.0  \n",
       "37608                                     1.0  \n",
       "92382                                     1.0  \n",
       "7532                                      1.0  \n",
       "5522                                      1.0  \n",
       "33423                                     1.0  \n",
       "165729                                    1.0  \n",
       "73362                                     1.0  "
      ]
     },
     "execution_count": 4,
     "metadata": {},
     "output_type": "execute_result"
    }
   ],
   "source": [
    "df = pd.read_hdf(\"/home/ziniu.wzn/imdb-benchmark/gen_single_light/title.hdf\")\n",
    "print(len(df))\n",
    "new_cols = []\n",
    "for col in df.columns:\n",
    "    new_cols.append(col.replace('.', '__'))\n",
    "df.columns = new_cols\n",
    "print(df.head(20))"
   ]
  },
  {
   "cell_type": "code",
   "execution_count": 5,
   "metadata": {},
   "outputs": [],
   "source": [
    "toy_df1 = toy_data_highly_correlated_cont(nrows=10000, return_df=True)\n",
    "toy_df2 = toy_data_highly_correlated_cont(nrows=40000, return_df=True)"
   ]
  },
  {
   "cell_type": "code",
   "execution_count": 42,
   "metadata": {},
   "outputs": [
    {
     "name": "stdout",
     "output_type": "stream",
     "text": [
      "Model spec[('title_mul_movie_info_movie_id', 'title_production_year'), ('title_mul_movie_info_movie_id', 'title_mul_movie_info_idx_movie_id'), ('title_mul_movie_info_idx_movie_id', 'title_mul_movie_info_idx_movie_id_nn'), ('title_kind_id', 'title_mul_movie_info_movie_id'), ('title_mul_movie_info_movie_id', 'title_mul_movie_info_movie_id_nn'), ('title_mul_movie_info_movie_id', 'title_mul_cast_info_movie_id'), ('title_mul_cast_info_movie_id', 'title_mul_cast_info_movie_id_nn'), ('title_mul_movie_info_movie_id', 'title_mul_movie_keyword_movie_id'), ('title_mul_movie_keyword_movie_id', 'title_mul_movie_keyword_movie_id_nn'), ('title_mul_movie_info_movie_id', 'title_mul_movie_companies_movie_id'), ('title_mul_movie_companies_movie_id', 'title_mul_movie_companies_movie_id_nn')]\n",
      "calling pgm.BayesianModel.fit...\n",
      "done, took 5.809454441070557 secs.\n"
     ]
    }
   ],
   "source": [
    "BN = Pgmpy_BN('title')\n",
    "BN.build_from_data(df, algorithm=\"chow-liu\", max_parents=2, ignore_cols=['title_id'], sample_size=500000)"
   ]
  },
  {
   "cell_type": "code",
   "execution_count": 27,
   "metadata": {},
   "outputs": [
    {
     "name": "stdout",
     "output_type": "stream",
     "text": [
      "{2012.0: 0, 2011.0: 1, 2010.0: 2, 2009.0: 3, 2008.0: 4, 2007.0: 5, 2006.0: 6, 2005.0: 7, 2004.0: 8, 1992.7887619952553: 9, 2003.0: 10, 2013.0: 11, 2002.0: 12, 2001.0: 13, 2000.0: 14, 1999.0: 15, 1998.0: 16, 1997.0: 17, 1996.0: 18, 1995.0: 19, 1994.0: 20, 1993.0: 21, 1992.0: 22, 1991.0: 23, 1990.0: 24, 1989.0: 25, 1987.0: 26, 1988.0: 27, 1986.0: 28, 1985.0: 29, 1880.0: 30, 1888.0: 30, 1889.0: 30, 1890.0: 30, 1891.0: 30, 1892.0: 30, 1893.0: 30, 1894.0: 30, 1895.0: 30, 1896.0: 30, 1897.0: 30, 1898.0: 30, 1899.0: 30, 1900.0: 30, 1901.0: 30, 1902.0: 30, 1903.0: 31, 1904.0: 31, 1905.0: 31, 1906.0: 31, 1907.0: 31, 1908.0: 31, 1909.0: 32, 1910.0: 32, 1911.0: 32, 1912.0: 33, 1913.0: 33, 1914.0: 34, 1915.0: 34, 1916.0: 35, 1917.0: 35, 1918.0: 36, 1919.0: 36, 1920.0: 36, 1921.0: 37, 1922.0: 37, 1923.0: 37, 1924.0: 37, 1925.0: 38, 1926.0: 38, 1927.0: 38, 1928.0: 38, 1929.0: 39, 1930.0: 39, 1931.0: 39, 1932.0: 39, 1933.0: 40, 1934.0: 40, 1935.0: 40, 1936.0: 40, 1937.0: 41, 1938.0: 41, 1939.0: 41, 1940.0: 41, 1941.0: 42, 1942.0: 42, 1943.0: 42, 1944.0: 42, 1945.0: 42, 1946.0: 43, 1947.0: 43, 1948.0: 43, 1949.0: 43, 1950.0: 44, 1951.0: 44, 1952.0: 45, 1953.0: 45, 1954.0: 46, 1955.0: 46, 1956.0: 47, 1957.0: 47, 1958.0: 48, 1959.0: 48, 1960.0: 49, 1961.0: 50, 1962.0: 51, 1963.0: 52, 1964.0: 53, 1965.0: 54, 1966.0: 55, 1967.0: 56, 1968.0: 57, 1969.0: 58, 1970.0: 59, 1971.0: 60, 1972.0: 61, 1973.0: 62, 1974.0: 63, 1975.0: 64, 1976.0: 65, 1977.0: 66, 1978.0: 67, 1979.0: 68, 1980.0: 69, 1981.0: 70, 1982.0: 71, 1983.0: 72, 1984.0: 73, 2014.0: 74, 2015.0: 74, 2016.0: 74, 2017.0: 74, 2019.0: 74}\n",
      "{30: {1880.0: 8.901548869503294e-05, 1888.0: 0.0004450774434751647, 1889.0: 0.00017803097739006588, 1890.0: 0.0005340929321701976, 1891.0: 0.0006231084208652305, 1892.0: 0.0008011393982552964, 1893.0: 0.00017803097739006588, 1894.0: 0.008278440448638062, 1895.0: 0.010681858643403952, 1896.0: 0.07041125155777106, 1897.0: 0.11652127470179811, 1898.0: 0.15488695032935731, 1899.0: 0.15907067829802385, 1900.0: 0.1616521274701798, 1901.0: 0.15551005875022253, 1902.0: 0.16013886416236425}, 31: {1903.0: 0.2655980521456833, 1904.0: 0.11524804707314601, 1905.0: 0.08116059653038452, 1906.0: 0.11200162321193063, 1907.0: 0.1508572588008522, 1908.0: 0.2751344222380035}, 32: {1909.0: 0.24478830861809586, 1910.0: 0.3293215846407336, 1911.0: 0.42589010674117056}, 33: {1912.0: 0.4660508637236084, 1913.0: 0.5339491362763915}, 34: {1914.0: 0.51440329218107, 1915.0: 0.48559670781893005}, 35: {1916.0: 0.5638225915547397, 1917.0: 0.43617740844526043}, 36: {1918.0: 0.33149219708925126, 1919.0: 0.3167631071365948, 1920.0: 0.35174469577415396}, 37: {1921.0: 0.3042274786109713, 1922.0: 0.2571716155007549, 1923.0: 0.21925851367220264, 1924.0: 0.2193423922160711}, 38: {1925.0: 0.2460913346877484, 1926.0: 0.251479551276389, 1927.0: 0.25748608780143095, 1928.0: 0.24494302623443157}, 39: {1929.0: 0.26879139867524243, 1930.0: 0.2441201881539791, 1931.0: 0.24066429874244025, 1932.0: 0.24642411442833834}, 40: {1933.0: 0.23874006476302614, 1934.0: 0.24462761259935237, 1935.0: 0.24207634187027768, 1936.0: 0.2745559807673437}, 41: {1937.0: 0.27375122428991183, 1938.0: 0.267384916748286, 1939.0: 0.24319294809010772, 1940.0: 0.2156709108716944}, 42: {1941.0: 0.22264836495761003, 1942.0: 0.22012515139281388, 1943.0: 0.19781994348001614, 1944.0: 0.18480016148566814, 1945.0: 0.1746063786838918}, 43: {1946.0: 0.1795668463858174, 1947.0: 0.20935758018824818, 1948.0: 0.259526638033446, 1949.0: 0.3515489353924883}, 44: {1950.0: 0.45683867254939575, 1951.0: 0.5431613274506043}, 45: {1952.0: 0.4814871016691957, 1953.0: 0.5185128983308043}, 46: {1954.0: 0.4734315401815073, 1955.0: 0.5265684598184928}, 47: {1956.0: 0.476185219934875, 1957.0: 0.5238147800651249}, 48: {1958.0: 0.4815380823268425, 1959.0: 0.5184619176731575}, 49: {1960.0: 1.0}, 50: {1961.0: 1.0}, 51: {1962.0: 1.0}, 52: {1963.0: 1.0}, 53: {1964.0: 1.0}, 54: {1965.0: 1.0}, 55: {1966.0: 1.0}, 56: {1967.0: 1.0}, 57: {1968.0: 1.0}, 58: {1969.0: 1.0}, 59: {1970.0: 1.0}, 60: {1971.0: 1.0}, 61: {1972.0: 1.0}, 62: {1973.0: 1.0}, 63: {1974.0: 1.0}, 64: {1975.0: 1.0}, 65: {1976.0: 1.0}, 66: {1977.0: 1.0}, 67: {1978.0: 1.0}, 68: {1979.0: 1.0}, 69: {1980.0: 1.0}, 70: {1981.0: 1.0}, 71: {1982.0: 1.0}, 72: {1983.0: 1.0}, 73: {1984.0: 1.0}, 74: {2014.0: 0.8753911806543385, 2015.0: 0.11408250355618775, 2016.0: 0.00910384068278805, 2017.0: 0.0008534850640113797, 2019.0: 0.0005689900426742531}}\n"
     ]
    }
   ],
   "source": [
    "print(BN.encoding['title_production_year'])\n",
    "print(BN.n_in_bin['title_production_year'])"
   ]
  },
  {
   "cell_type": "code",
   "execution_count": 40,
   "metadata": {},
   "outputs": [
    {
     "name": "stderr",
     "output_type": "stream",
     "text": [
      "Finding Elimination Order: : 100%|██████████| 9/9 [00:00<00:00, 3560.53it/s]\n",
      "Eliminating: title_mul_cast_info_movie_id: 100%|██████████| 9/9 [00:00<00:00, 294.04it/s]\n",
      "Finding Elimination Order: : 100%|██████████| 10/10 [00:00<00:00, 3914.79it/s]\n",
      "Eliminating: title_mul_cast_info_movie_id_nn:   0%|          | 0/10 [00:00<?, ?it/s]    "
     ]
    },
    {
     "name": "stdout",
     "output_type": "stream",
     "text": [
      "9615\n",
      "0.15904784202575684\n",
      "{'title_mul_cast_info_movie_id_nn': 3, 'title_kind_id': 7, 'title_production_year': 2011}\n"
     ]
    },
    {
     "name": "stderr",
     "output_type": "stream",
     "text": [
      "Eliminating: title_mul_cast_info_movie_id: 100%|██████████| 10/10 [00:00<00:00, 149.31it/s]\n",
      "Finding Elimination Order: : 100%|██████████| 11/11 [00:00<00:00, 4270.00it/s]\n",
      "Eliminating: title_mul_movie_info_movie_id: 100%|██████████| 11/11 [00:00<00:00, 124.75it/s]\n",
      "Finding Elimination Order: : 100%|██████████| 9/9 [00:00<00:00, 3682.09it/s]\n",
      "Eliminating: title_mul_cast_info_movie_id: 100%|██████████| 9/9 [00:00<00:00, 303.72it/s]\n",
      "Finding Elimination Order: : 100%|██████████| 10/10 [00:00<00:00, 5267.90it/s]\n",
      "Eliminating: title_mul_movie_keyword_movie_id:   0%|          | 0/10 [00:00<?, ?it/s]   "
     ]
    },
    {
     "name": "stdout",
     "output_type": "stream",
     "text": [
      "0.002475891128469264\n",
      "{'title_mul_cast_info_movie_id_nn': 3, 'title_kind_id': 2, 'title_production_year': 2011}\n"
     ]
    },
    {
     "name": "stderr",
     "output_type": "stream",
     "text": [
      "Eliminating: title_mul_cast_info_movie_id: 100%|██████████| 10/10 [00:00<00:00, 152.86it/s]\n",
      "Finding Elimination Order: : 100%|██████████| 11/11 [00:00<00:00, 4358.75it/s]\n",
      "Eliminating: title_mul_movie_info_movie_id: 100%|██████████| 11/11 [00:00<00:00, 123.97it/s]\n",
      "Finding Elimination Order: : 100%|██████████| 9/9 [00:00<00:00, 3208.56it/s]\n",
      "Eliminating: title_mul_cast_info_movie_id: 100%|██████████| 9/9 [00:00<00:00, 261.59it/s]\n",
      "Finding Elimination Order: : 100%|██████████| 10/10 [00:00<00:00, 3309.90it/s]\n",
      "Eliminating: title_mul_cast_info_movie_id_nn:   0%|          | 0/10 [00:00<?, ?it/s]    "
     ]
    },
    {
     "name": "stdout",
     "output_type": "stream",
     "text": [
      "0.00014947010450651368\n",
      "{'title_mul_cast_info_movie_id_nn': 12, 'title_kind_id': 7, 'title_production_year': 2011}\n"
     ]
    },
    {
     "name": "stderr",
     "output_type": "stream",
     "text": [
      "Eliminating: title_mul_cast_info_movie_id: 100%|██████████| 10/10 [00:00<00:00, 138.43it/s]\n",
      "Finding Elimination Order: : 100%|██████████| 11/11 [00:00<00:00, 3512.28it/s]\n",
      "Eliminating: title_mul_movie_info_movie_id: 100%|██████████| 11/11 [00:00<00:00, 114.81it/s]\n",
      "Finding Elimination Order: : 100%|██████████| 9/9 [00:00<00:00, 3368.62it/s]\n",
      "Eliminating: title_mul_cast_info_movie_id: 100%|██████████| 9/9 [00:00<00:00, 245.61it/s]\n",
      "Finding Elimination Order: : 100%|██████████| 10/10 [00:00<00:00, 3356.79it/s]\n",
      "Eliminating: title_mul_cast_info_movie_id_nn:   0%|          | 0/10 [00:00<?, ?it/s]    "
     ]
    },
    {
     "name": "stdout",
     "output_type": "stream",
     "text": [
      "0.000882831796154786\n",
      "{'title_mul_cast_info_movie_id_nn': 12, 'title_kind_id': 2, 'title_production_year': 2011}\n"
     ]
    },
    {
     "name": "stderr",
     "output_type": "stream",
     "text": [
      "Eliminating: title_mul_cast_info_movie_id: 100%|██████████| 10/10 [00:00<00:00, 137.18it/s]\n",
      "Finding Elimination Order: : 100%|██████████| 11/11 [00:00<00:00, 3457.53it/s]\n",
      "Eliminating: title_mul_movie_info_movie_id: 100%|██████████| 11/11 [00:00<00:00, 113.98it/s]\n",
      "Finding Elimination Order: : 100%|██████████| 9/9 [00:00<00:00, 3229.70it/s]\n",
      "Eliminating: title_mul_cast_info_movie_id: 100%|██████████| 9/9 [00:00<00:00, 255.09it/s]\n",
      "Finding Elimination Order: : 100%|██████████| 10/10 [00:00<00:00, 3342.61it/s]"
     ]
    },
    {
     "name": "stdout",
     "output_type": "stream",
     "text": [
      "4.189348575430987e-05\n",
      "{'title_mul_cast_info_movie_id_nn': 24, 'title_kind_id': 7, 'title_production_year': 2011}\n"
     ]
    },
    {
     "name": "stderr",
     "output_type": "stream",
     "text": [
      "\n",
      "Eliminating: title_mul_cast_info_movie_id: 100%|██████████| 10/10 [00:00<00:00, 135.76it/s]\n",
      "Finding Elimination Order: : 100%|██████████| 11/11 [00:00<00:00, 3572.11it/s]\n",
      "Eliminating: title_mul_movie_info_movie_id: 100%|██████████| 11/11 [00:00<00:00, 113.99it/s]\n",
      "Finding Elimination Order: : 100%|██████████| 9/9 [00:00<00:00, 3161.80it/s]\n",
      "Eliminating: title_mul_cast_info_movie_id: 100%|██████████| 9/9 [00:00<00:00, 248.49it/s]\n",
      "Finding Elimination Order: : 100%|██████████| 10/10 [00:00<00:00, 3306.77it/s]\n",
      "Eliminating: title_mul_movie_keyword_movie_id:   0%|          | 0/10 [00:00<?, ?it/s]   "
     ]
    },
    {
     "name": "stdout",
     "output_type": "stream",
     "text": [
      "0.0004838784973790043\n",
      "{'title_mul_cast_info_movie_id_nn': 24, 'title_kind_id': 2, 'title_production_year': 2011}\n"
     ]
    },
    {
     "name": "stderr",
     "output_type": "stream",
     "text": [
      "Eliminating: title_mul_cast_info_movie_id: 100%|██████████| 10/10 [00:00<00:00, 140.35it/s]\n",
      "Finding Elimination Order: : 100%|██████████| 11/11 [00:00<00:00, 3689.51it/s]\n",
      "Eliminating: title_mul_movie_info_movie_id: 100%|██████████| 11/11 [00:00<00:00, 114.96it/s]"
     ]
    },
    {
     "name": "stdout",
     "output_type": "stream",
     "text": [
      "1.2339777172819369e-05\n",
      "10230.0\n",
      "2.5411431789398193\n"
     ]
    },
    {
     "name": "stderr",
     "output_type": "stream",
     "text": [
      "\n"
     ]
    }
   ],
   "source": [
    "tic = time.time()\n",
    "print(len(df.query('title_mul_cast_info_movie_id_nn == [3,12,24]').query('title_kind_id in [7,2]').query('title_production_year == 2011.0')))\n",
    "toc = time.time()\n",
    "print(toc-tic)\n",
    "BN.init_inference_method()\n",
    "print(BN.infer_query({'title_mul_cast_info_movie_id_nn' : [3,12,24], 'title_kind_id': [7,2], 'title_production_year': 2011}, num_samples=1))\n",
    "print(time.time()-toc)"
   ]
  },
  {
   "cell_type": "code",
   "execution_count": 20,
   "metadata": {},
   "outputs": [
    {
     "name": "stderr",
     "output_type": "stream",
     "text": [
      "Finding Elimination Order: : 100%|██████████| 9/9 [00:00<00:00, 5242.88it/s]\n",
      "Eliminating: title.mul_movie_info.movie_id: 100%|██████████| 9/9 [00:00<00:00, 295.50it/s]\n",
      "Finding Elimination Order: : 100%|██████████| 10/10 [00:00<00:00, 5338.30it/s]\n",
      "Eliminating: title.mul_movie_info.movie_id: 100%|██████████| 10/10 [00:00<00:00, 282.01it/s]"
     ]
    },
    {
     "name": "stdout",
     "output_type": "stream",
     "text": [
      "{'title.mul_movie_info_idx.movie_id_nn': 3, 'title.kind_id': 7, 'title.production_year': 2011.0}\n",
      "title.kind_id 0\n",
      "{'title.mul_movie_info_idx.movie_id_nn': 1, 'title.production_year': 1}\n",
      "title.production_year 1\n",
      "{'title.mul_movie_info_idx.movie_id_nn': 1}\n",
      "title.mul_movie_info_idx.movie_id_nn 1\n",
      "{}\n"
     ]
    },
    {
     "name": "stderr",
     "output_type": "stream",
     "text": [
      "\n",
      "Finding Elimination Order: : 100%|██████████| 11/11 [00:00<00:00, 5702.30it/s]\n",
      "Eliminating: title.mul_movie_companies.movie_id: 100%|██████████| 11/11 [00:00<00:00, 190.15it/s]\n",
      "Finding Elimination Order: : 100%|██████████| 9/9 [00:00<00:00, 5565.20it/s]\n",
      "Eliminating: title.mul_movie_info.movie_id: 100%|██████████| 9/9 [00:00<00:00, 303.37it/s]\n",
      "Finding Elimination Order: : 100%|██████████| 10/10 [00:00<00:00, 5567.91it/s]\n",
      "Eliminating: title.mul_movie_info.movie_id: 100%|██████████| 10/10 [00:00<00:00, 288.19it/s]\n"
     ]
    },
    {
     "name": "stdout",
     "output_type": "stream",
     "text": [
      "{'title.mul_movie_info_idx.movie_id_nn': 3, 'title.kind_id': 7, 'title.production_year': 2006.0}\n",
      "title.kind_id 0\n",
      "{'title.mul_movie_info_idx.movie_id_nn': 1, 'title.production_year': 6}\n",
      "title.production_year 6\n",
      "{'title.mul_movie_info_idx.movie_id_nn': 1}\n",
      "title.mul_movie_info_idx.movie_id_nn 1\n",
      "{}\n"
     ]
    },
    {
     "name": "stderr",
     "output_type": "stream",
     "text": [
      "Finding Elimination Order: : 100%|██████████| 11/11 [00:00<00:00, 6005.90it/s]\n",
      "Eliminating: title.mul_movie_companies.movie_id: 100%|██████████| 11/11 [00:00<00:00, 190.05it/s]\n",
      "Finding Elimination Order: : 100%|██████████| 9/9 [00:00<00:00, 5560.28it/s]\n",
      "Eliminating: title.mul_movie_info.movie_id: 100%|██████████| 9/9 [00:00<00:00, 294.35it/s]\n",
      "Finding Elimination Order: : 100%|██████████| 10/10 [00:00<00:00, 5794.84it/s]\n",
      "Eliminating: title.mul_movie_info.movie_id: 100%|██████████| 10/10 [00:00<00:00, 293.40it/s]\n"
     ]
    },
    {
     "name": "stdout",
     "output_type": "stream",
     "text": [
      "{'title.mul_movie_info_idx.movie_id_nn': 3, 'title.kind_id': 2, 'title.production_year': 2011.0}\n",
      "title.kind_id 4\n",
      "{'title.mul_movie_info_idx.movie_id_nn': 1, 'title.production_year': 1}\n",
      "title.production_year 1\n",
      "{'title.mul_movie_info_idx.movie_id_nn': 1}\n",
      "title.mul_movie_info_idx.movie_id_nn 1\n",
      "{}\n"
     ]
    },
    {
     "name": "stderr",
     "output_type": "stream",
     "text": [
      "Finding Elimination Order: : 100%|██████████| 11/11 [00:00<00:00, 5841.65it/s]\n",
      "Eliminating: title.mul_movie_companies.movie_id: 100%|██████████| 11/11 [00:00<00:00, 186.21it/s]\n",
      "Finding Elimination Order: : 100%|██████████| 9/9 [00:00<00:00, 4167.45it/s]\n",
      "Eliminating: title.mul_movie_info.movie_id: 100%|██████████| 9/9 [00:00<00:00, 300.04it/s]\n",
      "Finding Elimination Order: : 100%|██████████| 10/10 [00:00<00:00, 5626.16it/s]\n",
      "Eliminating: title.mul_movie_info.movie_id: 100%|██████████| 10/10 [00:00<00:00, 299.43it/s]\n"
     ]
    },
    {
     "name": "stdout",
     "output_type": "stream",
     "text": [
      "{'title.mul_movie_info_idx.movie_id_nn': 3, 'title.kind_id': 2, 'title.production_year': 2006.0}\n",
      "title.kind_id 4\n",
      "{'title.mul_movie_info_idx.movie_id_nn': 1, 'title.production_year': 6}\n",
      "title.production_year 6\n",
      "{'title.mul_movie_info_idx.movie_id_nn': 1}\n",
      "title.mul_movie_info_idx.movie_id_nn 1\n",
      "{}\n"
     ]
    },
    {
     "name": "stderr",
     "output_type": "stream",
     "text": [
      "Finding Elimination Order: : 100%|██████████| 11/11 [00:00<00:00, 6081.91it/s]\n",
      "Eliminating: title.mul_movie_companies.movie_id: 100%|██████████| 11/11 [00:00<00:00, 190.53it/s]\n"
     ]
    },
    {
     "name": "stdout",
     "output_type": "stream",
     "text": [
      "{'title.mul_movie_info_idx.movie_id_nn': 12, 'title.kind_id': 7, 'title.production_year': 2011.0}\n",
      "title.kind_id 0\n",
      "{'title.mul_movie_info_idx.movie_id_nn': 12, 'title.production_year': 1}\n"
     ]
    },
    {
     "ename": "KeyError",
     "evalue": "12",
     "output_type": "error",
     "traceback": [
      "\u001b[0;31m---------------------------------------------------------------------------\u001b[0m",
      "\u001b[0;31mKeyError\u001b[0m                                  Traceback (most recent call last)",
      "\u001b[0;32m<ipython-input-20-30c32afa41bc>\u001b[0m in \u001b[0;36m<module>\u001b[0;34m\u001b[0m\n\u001b[0;32m----> 1\u001b[0;31m \u001b[0minfer_range_query\u001b[0m\u001b[0;34m(\u001b[0m\u001b[0mBN\u001b[0m\u001b[0;34m,\u001b[0m \u001b[0;34m{\u001b[0m\u001b[0;34m'title.mul_movie_info_idx.movie_id_nn'\u001b[0m\u001b[0;34m:\u001b[0m \u001b[0;34m[\u001b[0m\u001b[0;36m3\u001b[0m\u001b[0;34m,\u001b[0m\u001b[0;36m12\u001b[0m\u001b[0;34m]\u001b[0m\u001b[0;34m,\u001b[0m \u001b[0;34m'title.kind_id'\u001b[0m\u001b[0;34m:\u001b[0m \u001b[0;34m[\u001b[0m\u001b[0;36m7\u001b[0m\u001b[0;34m,\u001b[0m\u001b[0;36m2\u001b[0m\u001b[0;34m]\u001b[0m\u001b[0;34m,\u001b[0m \u001b[0;34m'title.production_year'\u001b[0m\u001b[0;34m:\u001b[0m \u001b[0;34m[\u001b[0m\u001b[0;36m2011.0\u001b[0m\u001b[0;34m,\u001b[0m \u001b[0;36m2006.0\u001b[0m\u001b[0;34m]\u001b[0m\u001b[0;34m}\u001b[0m\u001b[0;34m,\u001b[0m \u001b[0mBN\u001b[0m\u001b[0;34m.\u001b[0m\u001b[0minfer_machine\u001b[0m\u001b[0;34m)\u001b[0m\u001b[0;34m\u001b[0m\u001b[0;34m\u001b[0m\u001b[0m\n\u001b[0m",
      "\u001b[0;32m<ipython-input-19-e6fe2cf9939a>\u001b[0m in \u001b[0;36minfer_range_query\u001b[0;34m(BN, query, infer_machine, num_samples, return_prob)\u001b[0m\n\u001b[1;32m     42\u001b[0m             \u001b[0mi\u001b[0m \u001b[0;34m+=\u001b[0m \u001b[0;36m1\u001b[0m\u001b[0;34m\u001b[0m\u001b[0;34m\u001b[0m\u001b[0m\n\u001b[1;32m     43\u001b[0m         \u001b[0mprint\u001b[0m\u001b[0;34m(\u001b[0m\u001b[0mpoint_query\u001b[0m\u001b[0;34m)\u001b[0m\u001b[0;34m\u001b[0m\u001b[0;34m\u001b[0m\u001b[0m\n\u001b[0;32m---> 44\u001b[0;31m         \u001b[0mp_estimate\u001b[0m \u001b[0;34m+=\u001b[0m \u001b[0mtemp\u001b[0m\u001b[0;34m(\u001b[0m\u001b[0mBN\u001b[0m\u001b[0;34m,\u001b[0m \u001b[0mpoint_query\u001b[0m\u001b[0;34m,\u001b[0m \u001b[0minfer_machine\u001b[0m\u001b[0;34m,\u001b[0m \u001b[0mreturn_prob\u001b[0m\u001b[0;34m=\u001b[0m\u001b[0;32mTrue\u001b[0m\u001b[0;34m)\u001b[0m\u001b[0;34m[\u001b[0m\u001b[0;36m0\u001b[0m\u001b[0;34m]\u001b[0m\u001b[0;34m\u001b[0m\u001b[0;34m\u001b[0m\u001b[0m\n\u001b[0m\u001b[1;32m     45\u001b[0m \u001b[0;34m\u001b[0m\u001b[0m\n\u001b[1;32m     46\u001b[0m     \u001b[0;32mreturn\u001b[0m \u001b[0mround\u001b[0m\u001b[0;34m(\u001b[0m\u001b[0mp_estimate\u001b[0m\u001b[0;34m*\u001b[0m\u001b[0mBN\u001b[0m\u001b[0;34m.\u001b[0m\u001b[0mnrows\u001b[0m\u001b[0;34m)\u001b[0m\u001b[0;34m\u001b[0m\u001b[0;34m\u001b[0m\u001b[0m\n",
      "\u001b[0;32m<ipython-input-19-e6fe2cf9939a>\u001b[0m in \u001b[0;36mtemp\u001b[0;34m(BN, query, infer_machine, return_prob)\u001b[0m\n\u001b[1;32m     22\u001b[0m             \u001b[0mprint\u001b[0m\u001b[0;34m(\u001b[0m\u001b[0mattr\u001b[0m\u001b[0;34m,\u001b[0m \u001b[0mval\u001b[0m\u001b[0;34m)\u001b[0m\u001b[0;34m\u001b[0m\u001b[0;34m\u001b[0m\u001b[0m\n\u001b[1;32m     23\u001b[0m             \u001b[0mprint\u001b[0m\u001b[0;34m(\u001b[0m\u001b[0mquery\u001b[0m\u001b[0;34m)\u001b[0m\u001b[0;34m\u001b[0m\u001b[0;34m\u001b[0m\u001b[0m\n\u001b[0;32m---> 24\u001b[0;31m             \u001b[0mprobs\u001b[0m \u001b[0;34m=\u001b[0m \u001b[0minfer_machine\u001b[0m\u001b[0;34m.\u001b[0m\u001b[0mquery\u001b[0m\u001b[0;34m(\u001b[0m\u001b[0;34m[\u001b[0m\u001b[0mattr\u001b[0m\u001b[0;34m]\u001b[0m\u001b[0;34m,\u001b[0m \u001b[0mevidence\u001b[0m\u001b[0;34m=\u001b[0m\u001b[0mquery\u001b[0m\u001b[0;34m)\u001b[0m\u001b[0;34m.\u001b[0m\u001b[0mvalues\u001b[0m\u001b[0;34m\u001b[0m\u001b[0;34m\u001b[0m\u001b[0m\n\u001b[0m\u001b[1;32m     25\u001b[0m             \u001b[0;32mif\u001b[0m \u001b[0many\u001b[0m\u001b[0;34m(\u001b[0m\u001b[0mnp\u001b[0m\u001b[0;34m.\u001b[0m\u001b[0misnan\u001b[0m\u001b[0;34m(\u001b[0m\u001b[0mprobs\u001b[0m\u001b[0;34m)\u001b[0m\u001b[0;34m)\u001b[0m\u001b[0;34m:\u001b[0m\u001b[0;34m\u001b[0m\u001b[0;34m\u001b[0m\u001b[0m\n\u001b[1;32m     26\u001b[0m                 \u001b[0mp_estimate\u001b[0m \u001b[0;34m=\u001b[0m \u001b[0;36m0\u001b[0m\u001b[0;34m\u001b[0m\u001b[0;34m\u001b[0m\u001b[0m\n",
      "\u001b[0;32m~/anaconda3/envs/deepdb/lib/python3.7/site-packages/pgmpy/inference/ExactInference.py\u001b[0m in \u001b[0;36mquery\u001b[0;34m(self, variables, evidence, elimination_order, joint, show_progress)\u001b[0m\n\u001b[1;32m    258\u001b[0m             \u001b[0melimination_order\u001b[0m\u001b[0;34m=\u001b[0m\u001b[0melimination_order\u001b[0m\u001b[0;34m,\u001b[0m\u001b[0;34m\u001b[0m\u001b[0;34m\u001b[0m\u001b[0m\n\u001b[1;32m    259\u001b[0m             \u001b[0mjoint\u001b[0m\u001b[0;34m=\u001b[0m\u001b[0mjoint\u001b[0m\u001b[0;34m,\u001b[0m\u001b[0;34m\u001b[0m\u001b[0;34m\u001b[0m\u001b[0m\n\u001b[0;32m--> 260\u001b[0;31m             \u001b[0mshow_progress\u001b[0m\u001b[0;34m=\u001b[0m\u001b[0mshow_progress\u001b[0m\u001b[0;34m,\u001b[0m\u001b[0;34m\u001b[0m\u001b[0;34m\u001b[0m\u001b[0m\n\u001b[0m\u001b[1;32m    261\u001b[0m         )\n\u001b[1;32m    262\u001b[0m \u001b[0;34m\u001b[0m\u001b[0m\n",
      "\u001b[0;32m~/anaconda3/envs/deepdb/lib/python3.7/site-packages/pgmpy/inference/ExactInference.py\u001b[0m in \u001b[0;36m_variable_elimination\u001b[0;34m(self, variables, operation, evidence, elimination_order, joint, show_progress)\u001b[0m\n\u001b[1;32m    155\u001b[0m         \u001b[0meliminated_variables\u001b[0m \u001b[0;34m=\u001b[0m \u001b[0mset\u001b[0m\u001b[0;34m(\u001b[0m\u001b[0;34m)\u001b[0m\u001b[0;34m\u001b[0m\u001b[0;34m\u001b[0m\u001b[0m\n\u001b[1;32m    156\u001b[0m         \u001b[0;31m# Get working factors and elimination order\u001b[0m\u001b[0;34m\u001b[0m\u001b[0;34m\u001b[0m\u001b[0;34m\u001b[0m\u001b[0m\n\u001b[0;32m--> 157\u001b[0;31m         \u001b[0mworking_factors\u001b[0m \u001b[0;34m=\u001b[0m \u001b[0mself\u001b[0m\u001b[0;34m.\u001b[0m\u001b[0m_get_working_factors\u001b[0m\u001b[0;34m(\u001b[0m\u001b[0mevidence\u001b[0m\u001b[0;34m)\u001b[0m\u001b[0;34m\u001b[0m\u001b[0;34m\u001b[0m\u001b[0m\n\u001b[0m\u001b[1;32m    158\u001b[0m         elimination_order = self._get_elimination_order(\n\u001b[1;32m    159\u001b[0m             \u001b[0mvariables\u001b[0m\u001b[0;34m,\u001b[0m \u001b[0mevidence\u001b[0m\u001b[0;34m,\u001b[0m \u001b[0melimination_order\u001b[0m\u001b[0;34m,\u001b[0m \u001b[0mshow_progress\u001b[0m\u001b[0;34m=\u001b[0m\u001b[0mshow_progress\u001b[0m\u001b[0;34m\u001b[0m\u001b[0;34m\u001b[0m\u001b[0m\n",
      "\u001b[0;32m~/anaconda3/envs/deepdb/lib/python3.7/site-packages/pgmpy/inference/ExactInference.py\u001b[0m in \u001b[0;36m_get_working_factors\u001b[0;34m(self, evidence)\u001b[0m\n\u001b[1;32m     42\u001b[0m                 \u001b[0;32mfor\u001b[0m \u001b[0mfactor\u001b[0m \u001b[0;32min\u001b[0m \u001b[0mworking_factors\u001b[0m\u001b[0;34m[\u001b[0m\u001b[0mevidence_var\u001b[0m\u001b[0;34m]\u001b[0m\u001b[0;34m:\u001b[0m\u001b[0;34m\u001b[0m\u001b[0;34m\u001b[0m\u001b[0m\n\u001b[1;32m     43\u001b[0m                     factor_reduced = factor.reduce(\n\u001b[0;32m---> 44\u001b[0;31m                         \u001b[0;34m[\u001b[0m\u001b[0;34m(\u001b[0m\u001b[0mevidence_var\u001b[0m\u001b[0;34m,\u001b[0m \u001b[0mevidence\u001b[0m\u001b[0;34m[\u001b[0m\u001b[0mevidence_var\u001b[0m\u001b[0;34m]\u001b[0m\u001b[0;34m)\u001b[0m\u001b[0;34m]\u001b[0m\u001b[0;34m,\u001b[0m \u001b[0minplace\u001b[0m\u001b[0;34m=\u001b[0m\u001b[0;32mFalse\u001b[0m\u001b[0;34m\u001b[0m\u001b[0;34m\u001b[0m\u001b[0m\n\u001b[0m\u001b[1;32m     45\u001b[0m                     )\n\u001b[1;32m     46\u001b[0m                     \u001b[0;32mfor\u001b[0m \u001b[0mvar\u001b[0m \u001b[0;32min\u001b[0m \u001b[0mfactor_reduced\u001b[0m\u001b[0;34m.\u001b[0m\u001b[0mscope\u001b[0m\u001b[0;34m(\u001b[0m\u001b[0;34m)\u001b[0m\u001b[0;34m:\u001b[0m\u001b[0;34m\u001b[0m\u001b[0;34m\u001b[0m\u001b[0m\n",
      "\u001b[0;32m~/anaconda3/envs/deepdb/lib/python3.7/site-packages/pgmpy/factors/discrete/DiscreteFactor.py\u001b[0m in \u001b[0;36mreduce\u001b[0;34m(self, values, inplace)\u001b[0m\n\u001b[1;32m    426\u001b[0m         \u001b[0mphi\u001b[0m \u001b[0;34m=\u001b[0m \u001b[0mself\u001b[0m \u001b[0;32mif\u001b[0m \u001b[0minplace\u001b[0m \u001b[0;32melse\u001b[0m \u001b[0mself\u001b[0m\u001b[0;34m.\u001b[0m\u001b[0mcopy\u001b[0m\u001b[0;34m(\u001b[0m\u001b[0;34m)\u001b[0m\u001b[0;34m\u001b[0m\u001b[0;34m\u001b[0m\u001b[0m\n\u001b[1;32m    427\u001b[0m         values = [\n\u001b[0;32m--> 428\u001b[0;31m             \u001b[0;34m(\u001b[0m\u001b[0mvar\u001b[0m\u001b[0;34m,\u001b[0m \u001b[0mself\u001b[0m\u001b[0;34m.\u001b[0m\u001b[0mget_state_no\u001b[0m\u001b[0;34m(\u001b[0m\u001b[0mvar\u001b[0m\u001b[0;34m,\u001b[0m \u001b[0mstate_name\u001b[0m\u001b[0;34m)\u001b[0m\u001b[0;34m)\u001b[0m \u001b[0;32mfor\u001b[0m \u001b[0mvar\u001b[0m\u001b[0;34m,\u001b[0m \u001b[0mstate_name\u001b[0m \u001b[0;32min\u001b[0m \u001b[0mvalues\u001b[0m\u001b[0;34m\u001b[0m\u001b[0;34m\u001b[0m\u001b[0m\n\u001b[0m\u001b[1;32m    429\u001b[0m         ]\n\u001b[1;32m    430\u001b[0m \u001b[0;34m\u001b[0m\u001b[0m\n",
      "\u001b[0;32m~/anaconda3/envs/deepdb/lib/python3.7/site-packages/pgmpy/factors/discrete/DiscreteFactor.py\u001b[0m in \u001b[0;36m<listcomp>\u001b[0;34m(.0)\u001b[0m\n\u001b[1;32m    426\u001b[0m         \u001b[0mphi\u001b[0m \u001b[0;34m=\u001b[0m \u001b[0mself\u001b[0m \u001b[0;32mif\u001b[0m \u001b[0minplace\u001b[0m \u001b[0;32melse\u001b[0m \u001b[0mself\u001b[0m\u001b[0;34m.\u001b[0m\u001b[0mcopy\u001b[0m\u001b[0;34m(\u001b[0m\u001b[0;34m)\u001b[0m\u001b[0;34m\u001b[0m\u001b[0;34m\u001b[0m\u001b[0m\n\u001b[1;32m    427\u001b[0m         values = [\n\u001b[0;32m--> 428\u001b[0;31m             \u001b[0;34m(\u001b[0m\u001b[0mvar\u001b[0m\u001b[0;34m,\u001b[0m \u001b[0mself\u001b[0m\u001b[0;34m.\u001b[0m\u001b[0mget_state_no\u001b[0m\u001b[0;34m(\u001b[0m\u001b[0mvar\u001b[0m\u001b[0;34m,\u001b[0m \u001b[0mstate_name\u001b[0m\u001b[0;34m)\u001b[0m\u001b[0;34m)\u001b[0m \u001b[0;32mfor\u001b[0m \u001b[0mvar\u001b[0m\u001b[0;34m,\u001b[0m \u001b[0mstate_name\u001b[0m \u001b[0;32min\u001b[0m \u001b[0mvalues\u001b[0m\u001b[0;34m\u001b[0m\u001b[0;34m\u001b[0m\u001b[0m\n\u001b[0m\u001b[1;32m    429\u001b[0m         ]\n\u001b[1;32m    430\u001b[0m \u001b[0;34m\u001b[0m\u001b[0m\n",
      "\u001b[0;32m~/anaconda3/envs/deepdb/lib/python3.7/site-packages/pgmpy/utils/state_name.py\u001b[0m in \u001b[0;36mget_state_no\u001b[0;34m(self, var, state_name)\u001b[0m\n\u001b[1;32m     72\u001b[0m         \"\"\"\n\u001b[1;32m     73\u001b[0m         \u001b[0;32mif\u001b[0m \u001b[0mself\u001b[0m\u001b[0;34m.\u001b[0m\u001b[0mstate_names\u001b[0m\u001b[0;34m:\u001b[0m\u001b[0;34m\u001b[0m\u001b[0;34m\u001b[0m\u001b[0m\n\u001b[0;32m---> 74\u001b[0;31m             \u001b[0;32mreturn\u001b[0m \u001b[0mself\u001b[0m\u001b[0;34m.\u001b[0m\u001b[0mname_to_no\u001b[0m\u001b[0;34m[\u001b[0m\u001b[0mvar\u001b[0m\u001b[0;34m]\u001b[0m\u001b[0;34m[\u001b[0m\u001b[0mstate_name\u001b[0m\u001b[0;34m]\u001b[0m\u001b[0;34m\u001b[0m\u001b[0;34m\u001b[0m\u001b[0m\n\u001b[0m\u001b[1;32m     75\u001b[0m         \u001b[0;32melse\u001b[0m\u001b[0;34m:\u001b[0m\u001b[0;34m\u001b[0m\u001b[0;34m\u001b[0m\u001b[0m\n\u001b[1;32m     76\u001b[0m             \u001b[0;32mreturn\u001b[0m \u001b[0mstate_name\u001b[0m\u001b[0;34m\u001b[0m\u001b[0;34m\u001b[0m\u001b[0m\n",
      "\u001b[0;31mKeyError\u001b[0m: 12"
     ]
    }
   ],
   "source": [
    "infer_range_query(BN, {'title.mul_movie_info_idx.movie_id_nn': [3,12], 'title.kind_id': [7,2], 'title.production_year': [2011.0, 2006.0]}, BN.infer_machine)"
   ]
  },
  {
   "cell_type": "code",
   "execution_count": null,
   "metadata": {},
   "outputs": [],
   "source": [
    "from pgmpy.inference import VariableElimination\n",
    "inference = VariableElimination(BN.model)"
   ]
  },
  {
   "cell_type": "code",
   "execution_count": null,
   "metadata": {},
   "outputs": [],
   "source": [
    "tic = time.time()\n",
    "print(inference.query(['cont_attr1'], evidence={'cont_attr3': [0,1], 'cont_attr4': [0,1]}))\n",
    "print(time.time()-tic)"
   ]
  },
  {
   "cell_type": "code",
   "execution_count": 37,
   "metadata": {},
   "outputs": [],
   "source": [
    "def temp(BN, query, infer_machine, return_prob=False):\n",
    "    nrows = BN.nrows\n",
    "    n_distinct = dict()\n",
    "    for attr in query:\n",
    "        encode_value = BN.apply_encoding_to_value(query[attr], attr)\n",
    "        n_distinct[attr] = BN.apply_ndistinct_to_value(encode_value, query[attr], attr)\n",
    "        query[attr] = encode_value\n",
    "        \n",
    "    sampling_order = []\n",
    "    while len(sampling_order) < len(BN.structure):\n",
    "        for i, deps in enumerate(BN.structure):\n",
    "            if i in sampling_order:\n",
    "                continue  # already ordered\n",
    "            if all(d in sampling_order for d in deps):\n",
    "                sampling_order.append(i)\n",
    "    sampling_order = [BN.node_names[i] for i in sampling_order]\n",
    "\n",
    "    p_estimate = 1\n",
    "    for attr in sampling_order:\n",
    "        if attr in query:\n",
    "            val = query.pop(attr)\n",
    "            print(attr, val)\n",
    "            print(query)\n",
    "            probs = infer_machine.query([attr], evidence=query).values\n",
    "            if any(np.isnan(probs)):\n",
    "                p_estimate = 0\n",
    "                break\n",
    "            p = probs[val]/(np.sum(probs))*n_distinct[attr]\n",
    "            p_estimate *= p\n",
    "            \n",
    "    if return_prob:\n",
    "        return (p_estimate, nrows)\n",
    "    return round(p_estimate * nrows)\n",
    "\n",
    "def infer_range_query(BN, query, infer_machine, num_samples=1, return_prob=False):\n",
    "    p_estimate = 0\n",
    "    for query_tuple in cartesian_product(query):\n",
    "        point_query = dict()\n",
    "        i = 0\n",
    "        for attr in query:\n",
    "            point_query[attr] = query_tuple[i]\n",
    "            i += 1\n",
    "        print(point_query)\n",
    "        p_estimate += temp(BN, point_query, infer_machine, return_prob=True)[0]\n",
    "\n",
    "    return round(p_estimate*BN.nrows)"
   ]
  },
  {
   "cell_type": "code",
   "execution_count": null,
   "metadata": {},
   "outputs": [],
   "source": [
    "tic = time.time()\n",
    "print(infer_range_query(BN,{'cont_attr1': [2,3], 'cont_attr2': [2,3], 'cont_attr3': [5,6,7,8]}, infer_machine))\n",
    "print(time.time()-tic)"
   ]
  },
  {
   "cell_type": "code",
   "execution_count": 43,
   "metadata": {},
   "outputs": [],
   "source": [
    "from pgmpy.inference import BeliefPropagation\n",
    "infer_machine = BeliefPropagation(BN.model)\n",
    "infer_machine.calibrate()"
   ]
  },
  {
   "cell_type": "code",
   "execution_count": 44,
   "metadata": {},
   "outputs": [
    {
     "name": "stderr",
     "output_type": "stream",
     "text": [
      "Eliminating: title_mul_movie_info_movie_id: 100%|██████████| 2/2 [00:00<00:00, 342.95it/s]\n",
      "Eliminating: title_mul_movie_info_movie_id: 100%|██████████| 3/3 [00:00<00:00, 236.26it/s]\n",
      "Eliminating: title_mul_movie_info_movie_id: 100%|██████████| 1/1 [00:00<00:00, 262.85it/s]\n",
      "Eliminating: title_mul_movie_info_movie_id: 100%|██████████| 2/2 [00:00<00:00, 301.94it/s]"
     ]
    },
    {
     "name": "stdout",
     "output_type": "stream",
     "text": [
      "{'title_mul_cast_info_movie_id_nn': 3, 'title_kind_id': 7, 'title_production_year': 2011}\n",
      "title_kind_id 0\n",
      "{'title_mul_cast_info_movie_id_nn': 3, 'title_production_year': 1}\n",
      "title_mul_cast_info_movie_id_nn 3\n",
      "{'title_production_year': 1}\n",
      "title_production_year 1\n",
      "{}\n",
      "{'title_mul_cast_info_movie_id_nn': 3, 'title_kind_id': 2, 'title_production_year': 2011}\n",
      "title_kind_id 4\n",
      "{'title_mul_cast_info_movie_id_nn': 3, 'title_production_year': 1}\n",
      "title_mul_cast_info_movie_id_nn 3\n",
      "{'title_production_year': 1}\n"
     ]
    },
    {
     "name": "stderr",
     "output_type": "stream",
     "text": [
      "\n",
      "Eliminating: title_mul_movie_info_movie_id: 100%|██████████| 3/3 [00:00<00:00, 235.75it/s]\n",
      "Eliminating: title_mul_movie_info_movie_id: 100%|██████████| 1/1 [00:00<00:00, 249.72it/s]\n",
      "Eliminating: title_mul_movie_info_movie_id: 100%|██████████| 2/2 [00:00<00:00, 327.65it/s]\n",
      "Eliminating: title_mul_movie_info_movie_id: 100%|██████████| 3/3 [00:00<00:00, 245.44it/s]\n",
      "Eliminating: title_mul_movie_info_movie_id: 100%|██████████| 1/1 [00:00<00:00, 263.44it/s]\n",
      "Eliminating: title_mul_movie_info_movie_id: 100%|██████████| 2/2 [00:00<00:00, 297.02it/s]\n"
     ]
    },
    {
     "name": "stdout",
     "output_type": "stream",
     "text": [
      "title_production_year 1\n",
      "{}\n",
      "{'title_mul_cast_info_movie_id_nn': 12, 'title_kind_id': 7, 'title_production_year': 2011}\n",
      "title_kind_id 0\n",
      "{'title_mul_cast_info_movie_id_nn': 11, 'title_production_year': 1}\n",
      "title_mul_cast_info_movie_id_nn 11\n",
      "{'title_production_year': 1}\n",
      "title_production_year 1\n",
      "{}\n",
      "{'title_mul_cast_info_movie_id_nn': 12, 'title_kind_id': 2, 'title_production_year': 2011}\n",
      "title_kind_id 4\n",
      "{'title_mul_cast_info_movie_id_nn': 11, 'title_production_year': 1}\n",
      "title_mul_cast_info_movie_id_nn 11\n",
      "{'title_production_year': 1}\n"
     ]
    },
    {
     "name": "stderr",
     "output_type": "stream",
     "text": [
      "Eliminating: title_mul_movie_info_movie_id: 100%|██████████| 3/3 [00:00<00:00, 247.09it/s]\n",
      "Eliminating: title_mul_movie_info_movie_id: 100%|██████████| 1/1 [00:00<00:00, 261.10it/s]\n",
      "Eliminating: title_mul_movie_info_movie_id: 100%|██████████| 2/2 [00:00<00:00, 321.16it/s]\n",
      "Eliminating: title_mul_movie_info_movie_id: 100%|██████████| 3/3 [00:00<00:00, 239.28it/s]\n",
      "Eliminating: title_mul_movie_info_movie_id: 100%|██████████| 1/1 [00:00<00:00, 261.15it/s]\n",
      "Eliminating: title_mul_movie_info_movie_id: 100%|██████████| 2/2 [00:00<00:00, 328.97it/s]\n"
     ]
    },
    {
     "name": "stdout",
     "output_type": "stream",
     "text": [
      "title_production_year 1\n",
      "{}\n",
      "{'title_mul_cast_info_movie_id_nn': 24, 'title_kind_id': 7, 'title_production_year': 2011}\n",
      "title_kind_id 0\n",
      "{'title_mul_cast_info_movie_id_nn': 23, 'title_production_year': 1}\n",
      "title_mul_cast_info_movie_id_nn 23\n",
      "{'title_production_year': 1}\n",
      "title_production_year 1\n",
      "{}\n",
      "{'title_mul_cast_info_movie_id_nn': 24, 'title_kind_id': 2, 'title_production_year': 2011}\n",
      "title_kind_id 4\n",
      "{'title_mul_cast_info_movie_id_nn': 23, 'title_production_year': 1}\n",
      "title_mul_cast_info_movie_id_nn 23\n",
      "{'title_production_year': 1}\n"
     ]
    },
    {
     "name": "stderr",
     "output_type": "stream",
     "text": [
      "Eliminating: title_mul_movie_info_movie_id: 100%|██████████| 3/3 [00:00<00:00, 243.43it/s]\n",
      "Eliminating: title_mul_movie_info_movie_id: 100%|██████████| 1/1 [00:00<00:00, 262.52it/s]"
     ]
    },
    {
     "name": "stdout",
     "output_type": "stream",
     "text": [
      "title_production_year 1\n",
      "{}\n"
     ]
    },
    {
     "name": "stderr",
     "output_type": "stream",
     "text": [
      "\n"
     ]
    },
    {
     "data": {
      "text/plain": [
       "10757.0"
      ]
     },
     "execution_count": 44,
     "metadata": {},
     "output_type": "execute_result"
    }
   ],
   "source": [
    "infer_range_query(BN, {'title_mul_cast_info_movie_id_nn' : [3,12,24], 'title_kind_id': [7,2], 'title_production_year': 2011}, infer_machine)"
   ]
  },
  {
   "cell_type": "code",
   "execution_count": null,
   "metadata": {},
   "outputs": [],
   "source": [
    "print(a)"
   ]
  },
  {
   "cell_type": "code",
   "execution_count": null,
   "metadata": {},
   "outputs": [],
   "source": [
    "np.isnan(a.values)"
   ]
  },
  {
   "cell_type": "code",
   "execution_count": null,
   "metadata": {},
   "outputs": [],
   "source": [
    "any(np.isnan(a.values))"
   ]
  },
  {
   "cell_type": "code",
   "execution_count": 2,
   "metadata": {},
   "outputs": [],
   "source": [
    "import numpy as np\n",
    "idx = np.random.choice(1000, size=5)"
   ]
  },
  {
   "cell_type": "code",
   "execution_count": 3,
   "metadata": {},
   "outputs": [
    {
     "data": {
      "text/plain": [
       "array([642, 238,  45, 253, 234])"
      ]
     },
     "execution_count": 3,
     "metadata": {},
     "output_type": "execute_result"
    }
   ],
   "source": [
    "idx"
   ]
  },
  {
   "cell_type": "code",
   "execution_count": 15,
   "metadata": {},
   "outputs": [
    {
     "data": {
      "text/plain": [
       "[-23.123648636438254,\n",
       " -8.761486032223727,\n",
       " -6.386568342901904,\n",
       " 8.525174615562019,\n",
       " 20.68819772963036]"
      ]
     },
     "execution_count": 15,
     "metadata": {},
     "output_type": "execute_result"
    }
   ],
   "source": [
    "sorted(list(set(toy_df[\"cont_attr1\"].iloc[idx])))"
   ]
  },
  {
   "cell_type": "code",
   "execution_count": 12,
   "metadata": {},
   "outputs": [
    {
     "data": {
      "text/plain": [
       "'[1, 23]'"
      ]
     },
     "execution_count": 12,
     "metadata": {},
     "output_type": "execute_result"
    }
   ],
   "source": [
    "str([1,23])"
   ]
  },
  {
   "cell_type": "code",
   "execution_count": 1,
   "metadata": {},
   "outputs": [
    {
     "data": {
      "text/plain": [
       "tuple"
      ]
     },
     "execution_count": 1,
     "metadata": {},
     "output_type": "execute_result"
    }
   ],
   "source": [
    "type((1,3))"
   ]
  },
  {
   "cell_type": "code",
   "execution_count": null,
   "metadata": {},
   "outputs": [],
   "source": [
    "toy_df1 = toy_data_highly_correlated_cont(nrows=10000, return_df=True)\n",
    "toy_df2 = toy_data_highly_correlated_cont(nrows=40000, return_df=True)"
   ]
  },
  {
   "cell_type": "code",
   "execution_count": 7,
   "metadata": {},
   "outputs": [],
   "source": [
    "new_df = toy_df1.set_index('id').join(toy_df2.set_index('id'), rsuffix='_other')"
   ]
  },
  {
   "cell_type": "code",
   "execution_count": 12,
   "metadata": {},
   "outputs": [],
   "source": [
    "new_df = pd.merge(toy_df1, toy_df2, on='id', how='outer')"
   ]
  },
  {
   "cell_type": "code",
   "execution_count": 13,
   "metadata": {},
   "outputs": [
    {
     "data": {
      "text/plain": [
       "40000"
      ]
     },
     "execution_count": 13,
     "metadata": {},
     "output_type": "execute_result"
    }
   ],
   "source": [
    "len(new_df)"
   ]
  },
  {
   "cell_type": "code",
   "execution_count": 14,
   "metadata": {},
   "outputs": [],
   "source": [
    "def toy_df_for_merge(nrows=10000, id_name='id', id_num=10000):\n",
    "    \"\"\"\n",
    "    Create some highly correlated toy table for evaluation and debug purposes\n",
    "    \"\"\"\n",
    "\n",
    "    attr1 = np.random.randint(10, size=nrows)\n",
    "    attr2 = attr1 + np.random.choice([0, 1], size=nrows, p=[0.9, 0.1])\n",
    "    attr3 = attr1 + attr2\n",
    "    attr4 = attr3 + np.random.choice([0, 1, 2], size=nrows, p=[0.8, 0.1, 0.1])\n",
    "    attr5 = attr3 + attr4\n",
    "    attr6 = attr2 * 2 + np.random.randint(10, size=nrows)\n",
    "    attr7 = attr1 + 10\n",
    "    attr8 = attr1 + attr4 + attr5 + attr7\n",
    "    id = np.random.randint(id_num, size=nrows)\n",
    "    # return pandas dataframe\n",
    "    dataset = pd.DataFrame({id_name: id, 'cont_attr1': attr1, 'cont_attr2': attr2, 'cont_attr3': attr3,\n",
    "                            'cont_attr4': attr4,\n",
    "                            'cont_attr5': attr5, 'cont_attr6': attr6, 'cont_attr7': attr7, 'cont_attr8': attr8})\n",
    "\n",
    "    return dataset.apply(pd.to_numeric, errors=\"ignore\")"
   ]
  },
  {
   "cell_type": "code",
   "execution_count": 19,
   "metadata": {},
   "outputs": [],
   "source": [
    "toy_df3 = toy_df_for_merge(10000, 'id3')\n",
    "toy_df4 = toy_df_for_merge(40000, 'id4')"
   ]
  },
  {
   "cell_type": "code",
   "execution_count": 21,
   "metadata": {},
   "outputs": [
    {
     "name": "stdout",
     "output_type": "stream",
     "text": [
      "13716\n",
      "    id  cont_attr1_x  cont_attr2_x  cont_attr3_x  cont_attr4_x  cont_attr5_x  \\\n",
      "0    0     35.281047     -4.042341     31.238706     93.202617     -5.105851   \n",
      "1    1      8.003144    -16.664620     -8.661476     25.007860    -36.661550   \n",
      "2    1      8.003144    -16.664620     -8.661476     25.007860    -36.661550   \n",
      "3    2     19.574760     34.672005     54.246765     53.936899     91.680012   \n",
      "4    3     44.817864      3.812980     48.630844    117.044660     14.532450   \n",
      "5    4     37.351160     -3.556208     33.794952     98.377900     -3.890520   \n",
      "6    5    -19.545558    -21.700502    -41.246060    -43.863894    -49.251256   \n",
      "7    5    -19.545558    -21.700502    -41.246060    -43.863894    -49.251256   \n",
      "8    5    -19.545558    -21.700502    -41.246060    -43.863894    -49.251256   \n",
      "9    6     19.001768     19.445247     38.447015     52.504421     53.613117   \n",
      "10   7     -3.027144     28.629434     25.602290     -2.567860     76.573584   \n",
      "11   8     -2.064377     -4.901461     -6.965838     -0.160943     -7.253652   \n",
      "12   8     -2.064377     -4.901461     -6.965838     -0.160943     -7.253652   \n",
      "13   8     -2.064377     -4.901461     -6.965838     -0.160943     -7.253652   \n",
      "14   8     -2.064377     -4.901461     -6.965838     -0.160943     -7.253652   \n",
      "15   9      8.211970    -12.465076     -4.253106     25.529925    -26.162691   \n",
      "16   9      8.211970    -12.465076     -4.253106     25.529925    -26.162691   \n",
      "17  10      2.880871     -7.919977     -5.039106     12.202179    -14.799943   \n",
      "18  11     29.085470    -27.170448      1.915022     77.713675    -62.926120   \n",
      "19  12     15.220755     26.452051     41.672805     43.051886     71.130126   \n",
      "\n",
      "    cont_attr6_x  cont_attr7_x  cont_attr8_x   id3  cont_attr1_y  \\\n",
      "0       7.341671    129.143756    162.618282   NaN           NaN   \n",
      "1     -36.021047     33.010045    -48.334028   1.0           3.0   \n",
      "2     -36.021047     33.010045    -48.334028   1.0           5.0   \n",
      "3      95.511725     75.147891    316.586392   2.0           7.0   \n",
      "4      34.618860    162.718951    260.501105   NaN           NaN   \n",
      "5      10.060572    130.721165    170.686169   4.0           3.0   \n",
      "6     -45.430968    -63.168489   -199.096773   5.0           2.0   \n",
      "7     -45.430968    -63.168489   -199.096773   5.0           7.0   \n",
      "8     -45.430968    -63.168489   -199.096773   5.0           0.0   \n",
      "9      57.223789     73.121975    222.405895   NaN           NaN   \n",
      "10     76.665220     -4.390763    174.450331   7.0           0.0   \n",
      "11     -7.211036     -3.955700    -25.386225   8.0           6.0   \n",
      "12     -7.211036     -3.955700    -25.386225   8.0           2.0   \n",
      "13     -7.211036     -3.955700    -25.386225   8.0           1.0   \n",
      "14     -7.211036     -3.955700    -25.386225   8.0           3.0   \n",
      "15    -25.488326     33.435254    -22.468868   9.0           3.0   \n",
      "16    -25.488326     33.435254    -22.468868   9.0           0.0   \n",
      "17    -14.716949     14.602069    -19.953929  10.0           0.0   \n",
      "18    -54.466474    106.677619     -8.799954   NaN           NaN   \n",
      "19     73.446840     59.338373    245.588145  12.0           9.0   \n",
      "\n",
      "    cont_attr2_y  cont_attr3_y  cont_attr4_y  cont_attr5_y  cont_attr6_y  \\\n",
      "0            NaN           NaN           NaN           NaN           NaN   \n",
      "1            3.0           6.0           6.0          12.0          15.0   \n",
      "2            5.0          10.0          10.0          20.0          19.0   \n",
      "3            7.0          14.0          14.0          28.0          22.0   \n",
      "4            NaN           NaN           NaN           NaN           NaN   \n",
      "5            3.0           6.0           6.0          12.0           7.0   \n",
      "6            3.0           5.0           5.0          10.0          12.0   \n",
      "7            7.0          14.0          14.0          28.0          18.0   \n",
      "8            0.0           0.0           0.0           0.0           3.0   \n",
      "9            NaN           NaN           NaN           NaN           NaN   \n",
      "10           0.0           0.0           0.0           0.0           1.0   \n",
      "11           7.0          13.0          13.0          26.0          22.0   \n",
      "12           3.0           5.0           6.0          11.0           8.0   \n",
      "13           1.0           2.0           2.0           4.0          11.0   \n",
      "14           3.0           6.0           6.0          12.0           6.0   \n",
      "15           3.0           6.0           6.0          12.0          12.0   \n",
      "16           0.0           0.0           0.0           0.0           2.0   \n",
      "17           0.0           0.0           0.0           0.0           8.0   \n",
      "18           NaN           NaN           NaN           NaN           NaN   \n",
      "19           9.0          18.0          18.0          36.0          23.0   \n",
      "\n",
      "    cont_attr7_y  cont_attr8_y  \n",
      "0            NaN           NaN  \n",
      "1           13.0          34.0  \n",
      "2           15.0          50.0  \n",
      "3           17.0          66.0  \n",
      "4            NaN           NaN  \n",
      "5           13.0          34.0  \n",
      "6           12.0          29.0  \n",
      "7           17.0          66.0  \n",
      "8           10.0          10.0  \n",
      "9            NaN           NaN  \n",
      "10          10.0          10.0  \n",
      "11          16.0          61.0  \n",
      "12          12.0          31.0  \n",
      "13          11.0          18.0  \n",
      "14          13.0          34.0  \n",
      "15          13.0          34.0  \n",
      "16          10.0          10.0  \n",
      "17          10.0          10.0  \n",
      "18           NaN           NaN  \n",
      "19          19.0          82.0  \n"
     ]
    }
   ],
   "source": [
    "new_df2 = pd.merge(toy_df1, toy_df3, left_on='id', right_on='id3', how='outer')\n",
    "print(len(new_df2))\n",
    "print(new_df2.head(20))"
   ]
  },
  {
   "cell_type": "code",
   "execution_count": 17,
   "metadata": {},
   "outputs": [
    {
     "name": "stdout",
     "output_type": "stream",
     "text": [
      "70173\n"
     ]
    }
   ],
   "source": [
    "new_df3 = pd.merge(toy_df2, toy_df4, on='id', how='outer')\n",
    "print(len(new_df3))"
   ]
  },
  {
   "cell_type": "code",
   "execution_count": 18,
   "metadata": {},
   "outputs": [
    {
     "name": "stdout",
     "output_type": "stream",
     "text": [
      "85263\n"
     ]
    }
   ],
   "source": [
    "new_df4 = pd.merge(new_df2, new_df3, on='id', how='outer')\n",
    "print(len(new_df4))"
   ]
  },
  {
   "cell_type": "code",
   "execution_count": null,
   "metadata": {},
   "outputs": [],
   "source": []
  }
 ],
 "metadata": {
  "kernelspec": {
   "display_name": "Python 3",
   "language": "python",
   "name": "python3"
  },
  "language_info": {
   "codemirror_mode": {
    "name": "ipython",
    "version": 3
   },
   "file_extension": ".py",
   "mimetype": "text/x-python",
   "name": "python",
   "nbconvert_exporter": "python",
   "pygments_lexer": "ipython3",
   "version": "3.7.7"
  }
 },
 "nbformat": 4,
 "nbformat_minor": 4
}
